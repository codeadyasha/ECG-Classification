{
 "cells": [
  {
   "cell_type": "markdown",
   "metadata": {},
   "source": [
    "# Introduction\n",
    "A couple of months ago Keras added CuDNNLSTM and CuDNNGRU layers, which are special implementations of the regular LSTM and GRU layers backed by NVIDIA's cuDNN library. This means that if you have access to a CUDA GPU, training recurrent neural networks just got a whole lot faster.\n",
    "\n",
    "In this blogpost I'll be showing a simple implementation of an LSTM network and compare the computations times of a network implemented in the CuDDNLSTM layer with one implemented with the regular LSTM layer. I will also be using this opportunity to explore the PTB Diagnostic ECG Database (https://www.physionet.org/physiobank/database/ptbdb/), a database containing ECG data of 290 subjects of which some have a particular heart disease.\n",
    "\n"
   ]
  },
  {
   "cell_type": "markdown",
   "metadata": {},
   "source": [
    "# Recurrent neural networks & LSTMs\n",
    "\n"
   ]
  },
  {
   "cell_type": "code",
   "execution_count": 1,
   "metadata": {},
   "outputs": [
    {
     "name": "stderr",
     "output_type": "stream",
     "text": [
      "C:\\Users\\lnies\\Anaconda3\\envs\\tensorflow\\lib\\site-packages\\h5py\\__init__.py:36: FutureWarning: Conversion of the second argument of issubdtype from `float` to `np.floating` is deprecated. In future, it will be treated as `np.float64 == np.dtype(float).type`.\n",
      "  from ._conv import register_converters as _register_converters\n",
      "Using TensorFlow backend.\n"
     ]
    }
   ],
   "source": [
    "from wfdb import io, plot\n",
    "import wfdb\n",
    "import os\n",
    "import gc\n",
    "import numpy as np\n",
    "import matplotlib.pyplot as plt\n",
    "from tqdm import tqdm_notebook as tqdm\n",
    "%matplotlib notebook\n",
    "import pandas as pd\n",
    "import math\n",
    "from keras.models import Sequential\n",
    "from keras.layers import Dense\n",
    "from keras.layers import Dropout, Input\n",
    "from keras.layers import CuDNNLSTM, LSTM\n",
    "from keras.callbacks import ModelCheckpoint\n",
    "from sklearn.utils import shuffle\n",
    "from sklearn.metrics import confusion_matrix\n",
    "import time\n",
    "import keras"
   ]
  },
  {
   "cell_type": "code",
   "execution_count": 2,
   "metadata": {},
   "outputs": [],
   "source": [
    "def comments_to_dict(comments):\n",
    "    key_value_pairs = [comment.split(':') for comment in comments]\n",
    "    return {pair[0]: pair[1] for pair in key_value_pairs}    "
   ]
  },
  {
   "cell_type": "code",
   "execution_count": 99,
   "metadata": {},
   "outputs": [
    {
     "data": {
      "text/plain": [
       "['patient001/s0010_re',\n",
       " 'patient001/s0014lre',\n",
       " 'patient001/s0016lre',\n",
       " 'patient002/s0015lre',\n",
       " 'patient003/s0017lre',\n",
       " 'patient004/s0020are',\n",
       " 'patient004/s0020bre',\n",
       " 'patient005/s0021are',\n",
       " 'patient005/s0021bre',\n",
       " 'patient005/s0025lre',\n",
       " 'patient005/s0031lre',\n",
       " 'patient005/s0101lre',\n",
       " 'patient006/s0022lre',\n",
       " 'patient006/s0027lre',\n",
       " 'patient006/s0064lre',\n",
       " 'patient007/s0026lre',\n",
       " 'patient007/s0029lre',\n",
       " 'patient007/s0038lre',\n",
       " 'patient007/s0078lre',\n",
       " 'patient008/s0028lre',\n",
       " 'patient008/s0037lre',\n",
       " 'patient008/s0068lre',\n",
       " 'patient009/s0035_re',\n",
       " 'patient010/s0036lre',\n",
       " 'patient010/s0042lre',\n",
       " 'patient010/s0061lre',\n",
       " 'patient011/s0039lre',\n",
       " 'patient011/s0044lre',\n",
       " 'patient011/s0049lre',\n",
       " 'patient011/s0067lre',\n",
       " 'patient012/s0043lre',\n",
       " 'patient012/s0050lre',\n",
       " 'patient013/s0045lre',\n",
       " 'patient013/s0051lre',\n",
       " 'patient013/s0072lre',\n",
       " 'patient014/s0046lre',\n",
       " 'patient014/s0056lre',\n",
       " 'patient014/s0071lre',\n",
       " 'patient015/s0047lre',\n",
       " 'patient015/s0057lre',\n",
       " 'patient015/s0152lre',\n",
       " 'patient016/s0052lre',\n",
       " 'patient016/s0060lre',\n",
       " 'patient016/s0076lre',\n",
       " 'patient017/s0053lre',\n",
       " 'patient017/s0055lre',\n",
       " 'patient017/s0063lre',\n",
       " 'patient017/s0075lre',\n",
       " 'patient018/s0054lre',\n",
       " 'patient018/s0059lre',\n",
       " 'patient018/s0082lre',\n",
       " 'patient019/s0058lre',\n",
       " 'patient019/s0070lre',\n",
       " 'patient019/s0077lre',\n",
       " 'patient020/s0062lre',\n",
       " 'patient020/s0069lre',\n",
       " 'patient020/s0079lre',\n",
       " 'patient021/s0065lre',\n",
       " 'patient021/s0073lre',\n",
       " 'patient021/s0097lre',\n",
       " 'patient022/s0066lre',\n",
       " 'patient022/s0074lre',\n",
       " 'patient022/s0149lre',\n",
       " 'patient023/s0080lre',\n",
       " 'patient023/s0081lre',\n",
       " 'patient023/s0085lre',\n",
       " 'patient023/s0103lre',\n",
       " 'patient024/s0083lre',\n",
       " 'patient024/s0084lre',\n",
       " 'patient024/s0086lre',\n",
       " 'patient024/s0094lre',\n",
       " 'patient025/s0087lre',\n",
       " 'patient025/s0091lre',\n",
       " 'patient025/s0150lre',\n",
       " 'patient026/s0088lre',\n",
       " 'patient026/s0095lre',\n",
       " 'patient027/s0089lre',\n",
       " 'patient027/s0096lre',\n",
       " 'patient027/s0151lre',\n",
       " 'patient028/s0090lre',\n",
       " 'patient028/s0093lre',\n",
       " 'patient028/s0108lre',\n",
       " 'patient029/s0092lre',\n",
       " 'patient029/s0098lre',\n",
       " 'patient029/s0122lre',\n",
       " 'patient030/s0099lre',\n",
       " 'patient030/s0107lre',\n",
       " 'patient030/s0117lre',\n",
       " 'patient030/s0153lre',\n",
       " 'patient031/s0100lre',\n",
       " 'patient031/s0104lre',\n",
       " 'patient031/s0114lre',\n",
       " 'patient031/s0127lre',\n",
       " 'patient032/s0102lre',\n",
       " 'patient032/s0106lre',\n",
       " 'patient032/s0115lre',\n",
       " 'patient032/s0165lre',\n",
       " 'patient033/s0105lre',\n",
       " 'patient033/s0113lre',\n",
       " 'patient033/s0121lre',\n",
       " 'patient033/s0157lre',\n",
       " 'patient034/s0109lre',\n",
       " 'patient034/s0118lre',\n",
       " 'patient034/s0123lre',\n",
       " 'patient034/s0158lre',\n",
       " 'patient035/s0110lre',\n",
       " 'patient035/s0119lre',\n",
       " 'patient035/s0124lre',\n",
       " 'patient035/s0145lre',\n",
       " 'patient036/s0111lre',\n",
       " 'patient036/s0116lre',\n",
       " 'patient036/s0126lre',\n",
       " 'patient037/s0112lre',\n",
       " 'patient037/s0120lre',\n",
       " 'patient038/s0125lre',\n",
       " 'patient038/s0128lre',\n",
       " 'patient038/s0162lre',\n",
       " 'patient039/s0129lre',\n",
       " 'patient039/s0134lre',\n",
       " 'patient039/s0164lre',\n",
       " 'patient040/s0130lre',\n",
       " 'patient040/s0131lre',\n",
       " 'patient040/s0133lre',\n",
       " 'patient040/s0219lre',\n",
       " 'patient041/s0132lre',\n",
       " 'patient041/s0136lre',\n",
       " 'patient041/s0138lre',\n",
       " 'patient041/s0276lre',\n",
       " 'patient042/s0135lre',\n",
       " 'patient042/s0137lre',\n",
       " 'patient042/s0140lre',\n",
       " 'patient042/s0347lre',\n",
       " 'patient043/s0141lre',\n",
       " 'patient043/s0144lre',\n",
       " 'patient043/s0278lre',\n",
       " 'patient044/s0142lre',\n",
       " 'patient044/s0143lre',\n",
       " 'patient044/s0146lre',\n",
       " 'patient044/s0159lre',\n",
       " 'patient045/s0147lre',\n",
       " 'patient045/s0148lre',\n",
       " 'patient045/s0155lre',\n",
       " 'patient045/s0217lre',\n",
       " 'patient046/s0156lre',\n",
       " 'patient046/s0161lre',\n",
       " 'patient046/s0168lre',\n",
       " 'patient046/s0184lre',\n",
       " 'patient047/s0160lre',\n",
       " 'patient047/s0163lre',\n",
       " 'patient047/s0167lre',\n",
       " 'patient048/s0171lre',\n",
       " 'patient048/s0172lre',\n",
       " 'patient048/s0180lre',\n",
       " 'patient048/s0277lre',\n",
       " 'patient049/s0173lre',\n",
       " 'patient049/s0178lre',\n",
       " 'patient049/s0186lre',\n",
       " 'patient049/s0314lre',\n",
       " 'patient050/s0174lre',\n",
       " 'patient050/s0177lre',\n",
       " 'patient050/s0185lre',\n",
       " 'patient050/s0215lre',\n",
       " 'patient051/s0179lre',\n",
       " 'patient051/s0181lre',\n",
       " 'patient051/s0187lre',\n",
       " 'patient051/s0213lre',\n",
       " 'patient052/s0190lre',\n",
       " 'patient053/s0191lre',\n",
       " 'patient054/s0192lre',\n",
       " 'patient054/s0195lre',\n",
       " 'patient054/s0197lre',\n",
       " 'patient054/s0218lre',\n",
       " 'patient055/s0194lre',\n",
       " 'patient056/s0196lre',\n",
       " 'patient057/s0198lre',\n",
       " 'patient058/s0216lre',\n",
       " 'patient059/s0208lre',\n",
       " 'patient060/s0209lre',\n",
       " 'patient061/s0210lre',\n",
       " 'patient062/s0212lre',\n",
       " 'patient063/s0214lre',\n",
       " 'patient064/s0220lre',\n",
       " 'patient065/s0221lre',\n",
       " 'patient065/s0226lre',\n",
       " 'patient065/s0229lre',\n",
       " 'patient065/s0282lre',\n",
       " 'patient066/s0225lre',\n",
       " 'patient066/s0231lre',\n",
       " 'patient066/s0280lre',\n",
       " 'patient067/s0227lre',\n",
       " 'patient067/s0230lre',\n",
       " 'patient067/s0283lre',\n",
       " 'patient068/s0228lre',\n",
       " 'patient069/s0232lre',\n",
       " 'patient069/s0233lre',\n",
       " 'patient069/s0234lre',\n",
       " 'patient069/s0284lre',\n",
       " 'patient070/s0235lre',\n",
       " 'patient071/s0236lre',\n",
       " 'patient072/s0237lre',\n",
       " 'patient072/s0240lre',\n",
       " 'patient072/s0244lre',\n",
       " 'patient072/s0318lre',\n",
       " 'patient073/s0238lre',\n",
       " 'patient073/s0243lre',\n",
       " 'patient073/s0249lre',\n",
       " 'patient073/s0252lre',\n",
       " 'patient074/s0239lre',\n",
       " 'patient074/s0241lre',\n",
       " 'patient074/s0245lre',\n",
       " 'patient074/s0406lre',\n",
       " 'patient075/s0242lre',\n",
       " 'patient075/s0246lre',\n",
       " 'patient075/s0248lre',\n",
       " 'patient075/s0327lre',\n",
       " 'patient076/s0247lre',\n",
       " 'patient076/s0250lre',\n",
       " 'patient076/s0253lre',\n",
       " 'patient076/s0319lre',\n",
       " 'patient077/s0251lre',\n",
       " 'patient077/s0254lre',\n",
       " 'patient077/s0258lre',\n",
       " 'patient077/s0285lre',\n",
       " 'patient078/s0255lre',\n",
       " 'patient078/s0259lre',\n",
       " 'patient078/s0262lre',\n",
       " 'patient078/s0317lre',\n",
       " 'patient079/s0256lre',\n",
       " 'patient079/s0257lre',\n",
       " 'patient079/s0263lre',\n",
       " 'patient079/s0269lre',\n",
       " 'patient080/s0260lre',\n",
       " 'patient080/s0261lre',\n",
       " 'patient080/s0265lre',\n",
       " 'patient080/s0315lre',\n",
       " 'patient081/s0264lre',\n",
       " 'patient081/s0266lre',\n",
       " 'patient081/s0270lre',\n",
       " 'patient081/s0346lre',\n",
       " 'patient082/s0267lre',\n",
       " 'patient082/s0271lre',\n",
       " 'patient082/s0279lre',\n",
       " 'patient082/s0320lre',\n",
       " 'patient083/s0268lre',\n",
       " 'patient083/s0272lre',\n",
       " 'patient083/s0286lre',\n",
       " 'patient083/s0290lre',\n",
       " 'patient084/s0281lre',\n",
       " 'patient084/s0288lre',\n",
       " 'patient084/s0289lre',\n",
       " 'patient084/s0313lre',\n",
       " 'patient085/s0296lre',\n",
       " 'patient085/s0297lre',\n",
       " 'patient085/s0298lre',\n",
       " 'patient085/s0345lre',\n",
       " 'patient086/s0316lre',\n",
       " 'patient087/s0321lre',\n",
       " 'patient087/s0326lre',\n",
       " 'patient087/s0330lre',\n",
       " 'patient088/s0339lre',\n",
       " 'patient088/s0343lre',\n",
       " 'patient088/s0352lre',\n",
       " 'patient088/s0413lre',\n",
       " 'patient089/s0344lre',\n",
       " 'patient089/s0355lre',\n",
       " 'patient089/s0359lre',\n",
       " 'patient089/s0372lre',\n",
       " 'patient090/s0348lre',\n",
       " 'patient090/s0356lre',\n",
       " 'patient090/s0360lre',\n",
       " 'patient090/s0418lre',\n",
       " 'patient091/s0353lre',\n",
       " 'patient091/s0357lre',\n",
       " 'patient091/s0361lre',\n",
       " 'patient091/s0408lre',\n",
       " 'patient092/s0354lre',\n",
       " 'patient092/s0358lre',\n",
       " 'patient092/s0362lre',\n",
       " 'patient092/s0411lre',\n",
       " 'patient093/s0367lre',\n",
       " 'patient093/s0371lre',\n",
       " 'patient093/s0375lre',\n",
       " 'patient093/s0378lre',\n",
       " 'patient093/s0396lre',\n",
       " 'patient094/s0368lre',\n",
       " 'patient094/s0370lre',\n",
       " 'patient094/s0376lre',\n",
       " 'patient094/s0412lre',\n",
       " 'patient095/s0369lre',\n",
       " 'patient095/s0373lre',\n",
       " 'patient095/s0377lre',\n",
       " 'patient095/s0417lre',\n",
       " 'patient096/s0379lre',\n",
       " 'patient096/s0381lre',\n",
       " 'patient096/s0385lre',\n",
       " 'patient096/s0395lre',\n",
       " 'patient097/s0380lre',\n",
       " 'patient097/s0382lre',\n",
       " 'patient097/s0384lre',\n",
       " 'patient097/s0394lre',\n",
       " 'patient098/s0386lre',\n",
       " 'patient098/s0389lre',\n",
       " 'patient098/s0398lre',\n",
       " 'patient098/s0409lre',\n",
       " 'patient099/s0387lre',\n",
       " 'patient099/s0388lre',\n",
       " 'patient099/s0397lre',\n",
       " 'patient099/s0419lre',\n",
       " 'patient100/s0399lre',\n",
       " 'patient100/s0401lre',\n",
       " 'patient100/s0407lre',\n",
       " 'patient101/s0400lre',\n",
       " 'patient101/s0410lre',\n",
       " 'patient101/s0414lre',\n",
       " 'patient102/s0416lre',\n",
       " 'patient103/s0332lre',\n",
       " 'patient104/s0306lre',\n",
       " 'patient105/s0303lre',\n",
       " 'patient106/s0030_re',\n",
       " 'patient107/s0199_re',\n",
       " 'patient108/s0013_re',\n",
       " 'patient109/s0349lre',\n",
       " 'patient110/s0003_re',\n",
       " 'patient111/s0203_re',\n",
       " 'patient112/s0169_re',\n",
       " 'patient113/s0018cre',\n",
       " 'patient113/s0018lre',\n",
       " 'patient114/s0012_re',\n",
       " 'patient115/s0023_re',\n",
       " 'patient116/s0302lre',\n",
       " 'patient117/s0291lre',\n",
       " 'patient117/s0292lre',\n",
       " 'patient118/s0183_re',\n",
       " 'patient119/s0001_re',\n",
       " 'patient120/s0331lre',\n",
       " 'patient121/s0311lre',\n",
       " 'patient122/s0312lre',\n",
       " 'patient123/s0224_re',\n",
       " 'patient125/s0006_re',\n",
       " 'patient126/s0154_re',\n",
       " 'patient127/s0342lre',\n",
       " 'patient127/s0383lre',\n",
       " 'patient128/s0182_re',\n",
       " 'patient129/s0189_re',\n",
       " 'patient130/s0166_re',\n",
       " 'patient131/s0273lre',\n",
       " 'patient133/s0393lre',\n",
       " 'patient135/s0334lre',\n",
       " 'patient136/s0205_re',\n",
       " 'patient137/s0392lre',\n",
       " 'patient138/s0005_re',\n",
       " 'patient139/s0223_re',\n",
       " 'patient140/s0019_re',\n",
       " 'patient141/s0307lre',\n",
       " 'patient142/s0351lre',\n",
       " 'patient143/s0333lre',\n",
       " 'patient144/s0341lre',\n",
       " 'patient145/s0201_re',\n",
       " 'patient146/s0007_re',\n",
       " 'patient147/s0211_re',\n",
       " 'patient148/s0335lre',\n",
       " 'patient149/s0202are',\n",
       " 'patient149/s0202bre',\n",
       " 'patient150/s0287lre',\n",
       " 'patient151/s0206_re',\n",
       " 'patient152/s0004_re',\n",
       " 'patient153/s0391lre',\n",
       " 'patient154/s0170_re',\n",
       " 'patient155/s0301lre',\n",
       " 'patient156/s0299lre',\n",
       " 'patient157/s0338lre',\n",
       " 'patient158/s0294lre',\n",
       " 'patient158/s0295lre',\n",
       " 'patient159/s0390lre',\n",
       " 'patient160/s0222_re',\n",
       " 'patient162/s0193_re',\n",
       " 'patient163/s0034_re',\n",
       " 'patient164/s0024are',\n",
       " 'patient164/s0024bre',\n",
       " 'patient165/s0322lre',\n",
       " 'patient165/s0323lre',\n",
       " 'patient166/s0275lre',\n",
       " 'patient167/s0200_re',\n",
       " 'patient168/s0032_re',\n",
       " 'patient168/s0033_re',\n",
       " 'patient169/s0328lre',\n",
       " 'patient169/s0329lre',\n",
       " 'patient170/s0274lre',\n",
       " 'patient171/s0364lre',\n",
       " 'patient172/s0304lre',\n",
       " 'patient173/s0305lre',\n",
       " 'patient174/s0300lre',\n",
       " 'patient174/s0324lre',\n",
       " 'patient174/s0325lre',\n",
       " 'patient175/s0009_re',\n",
       " 'patient176/s0188_re',\n",
       " 'patient177/s0366lre',\n",
       " 'patient178/s0011_re',\n",
       " 'patient179/s0176_re',\n",
       " 'patient180/s0374lre',\n",
       " 'patient180/s0475_re',\n",
       " 'patient180/s0476_re',\n",
       " 'patient180/s0477_re',\n",
       " 'patient180/s0490_re',\n",
       " 'patient180/s0545_re',\n",
       " 'patient180/s0561_re',\n",
       " 'patient181/s0204are',\n",
       " 'patient181/s0204bre',\n",
       " 'patient182/s0308lre',\n",
       " 'patient183/s0175_re',\n",
       " 'patient184/s0363lre',\n",
       " 'patient185/s0336lre',\n",
       " 'patient186/s0293lre',\n",
       " 'patient187/s0207_re',\n",
       " 'patient188/s0365lre',\n",
       " 'patient189/s0309lre',\n",
       " 'patient190/s0040_re',\n",
       " 'patient190/s0041_re',\n",
       " 'patient191/s0340lre',\n",
       " 'patient192/s0048_re',\n",
       " 'patient193/s0008_re',\n",
       " 'patient194/s0310lre',\n",
       " 'patient195/s0337lre',\n",
       " 'patient196/s0002_re',\n",
       " 'patient197/s0350lre',\n",
       " 'patient197/s0403lre',\n",
       " 'patient198/s0402lre',\n",
       " 'patient198/s0415lre',\n",
       " 'patient199/s0404lre',\n",
       " 'patient200/s0405lre',\n",
       " 'patient201/s0420_re',\n",
       " 'patient201/s0423_re',\n",
       " 'patient202/s0421_re',\n",
       " 'patient202/s0422_re',\n",
       " 'patient203/s0424_re',\n",
       " 'patient204/s0425_re',\n",
       " 'patient205/s0426_re',\n",
       " 'patient206/s0427_re',\n",
       " 'patient207/s0428_re',\n",
       " 'patient208/s0429_re',\n",
       " 'patient208/s0430_re',\n",
       " 'patient209/s0431_re',\n",
       " 'patient210/s0432_re',\n",
       " 'patient211/s0433_re',\n",
       " 'patient212/s0434_re',\n",
       " 'patient213/s0435_re',\n",
       " 'patient214/s0436_re',\n",
       " 'patient215/s0437_re',\n",
       " 'patient216/s0438_re',\n",
       " 'patient217/s0439_re',\n",
       " 'patient218/s0440_re',\n",
       " 'patient219/s0441_re',\n",
       " 'patient220/s0442_re',\n",
       " 'patient221/s0443_re',\n",
       " 'patient222/s0444_re',\n",
       " 'patient223/s0445_re',\n",
       " 'patient223/s0446_re',\n",
       " 'patient224/s0447_re',\n",
       " 'patient225/s0448_re',\n",
       " 'patient226/s0449_re',\n",
       " 'patient227/s0450_re',\n",
       " 'patient228/s0451_re',\n",
       " 'patient229/s0452_re',\n",
       " 'patient229/s0453_re',\n",
       " 'patient230/s0454_re',\n",
       " 'patient231/s0455_re',\n",
       " 'patient232/s0456_re',\n",
       " 'patient233/s0457_re',\n",
       " 'patient233/s0458_re',\n",
       " 'patient233/s0459_re',\n",
       " 'patient233/s0482_re',\n",
       " 'patient233/s0483_re',\n",
       " 'patient234/s0460_re',\n",
       " 'patient235/s0461_re',\n",
       " 'patient236/s0462_re',\n",
       " 'patient236/s0463_re',\n",
       " 'patient236/s0464_re',\n",
       " 'patient237/s0465_re',\n",
       " 'patient238/s0466_re',\n",
       " 'patient239/s0467_re',\n",
       " 'patient240/s0468_re',\n",
       " 'patient241/s0469_re',\n",
       " 'patient241/s0470_re',\n",
       " 'patient242/s0471_re',\n",
       " 'patient243/s0472_re',\n",
       " 'patient244/s0473_re',\n",
       " 'patient245/s0474_re',\n",
       " 'patient245/s0480_re',\n",
       " 'patient246/s0478_re',\n",
       " 'patient247/s0479_re',\n",
       " 'patient248/s0481_re',\n",
       " 'patient249/s0484_re',\n",
       " 'patient250/s0485_re',\n",
       " 'patient251/s0486_re',\n",
       " 'patient251/s0503_re',\n",
       " 'patient251/s0506_re',\n",
       " 'patient252/s0487_re',\n",
       " 'patient253/s0488_re',\n",
       " 'patient254/s0489_re',\n",
       " 'patient255/s0491_re',\n",
       " 'patient256/s0492_re',\n",
       " 'patient257/s0493_re',\n",
       " 'patient258/s0494_re',\n",
       " 'patient259/s0495_re',\n",
       " 'patient260/s0496_re',\n",
       " 'patient261/s0497_re',\n",
       " 'patient262/s0498_re',\n",
       " 'patient263/s0499_re',\n",
       " 'patient264/s0500_re',\n",
       " 'patient265/s0501_re',\n",
       " 'patient266/s0502_re',\n",
       " 'patient267/s0504_re',\n",
       " 'patient268/s0505_re',\n",
       " 'patient269/s0508_re',\n",
       " 'patient270/s0507_re',\n",
       " 'patient271/s0509_re',\n",
       " 'patient272/s0510_re',\n",
       " 'patient273/s0511_re',\n",
       " 'patient274/s0512_re',\n",
       " 'patient275/s0513_re',\n",
       " 'patient276/s0526_re',\n",
       " 'patient277/s0527_re',\n",
       " 'patient278/s0528_re',\n",
       " 'patient278/s0529_re',\n",
       " 'patient278/s0530_re',\n",
       " 'patient279/s0531_re',\n",
       " 'patient279/s0532_re',\n",
       " 'patient279/s0533_re',\n",
       " 'patient279/s0534_re',\n",
       " 'patient280/s0535_re',\n",
       " 'patient281/s0537_re',\n",
       " 'patient282/s0539_re',\n",
       " 'patient283/s0542_re',\n",
       " 'patient284/s0543_re',\n",
       " 'patient284/s0551_re',\n",
       " 'patient284/s0552_re',\n",
       " 'patient285/s0544_re',\n",
       " 'patient286/s0546_re',\n",
       " 'patient287/s0547_re',\n",
       " 'patient287/s0548_re',\n",
       " 'patient288/s0549_re',\n",
       " 'patient289/s0550_re',\n",
       " 'patient290/s0553_re',\n",
       " 'patient291/s0554_re',\n",
       " 'patient292/s0555_re',\n",
       " 'patient292/s0556_re',\n",
       " 'patient293/s0557_re',\n",
       " 'patient293/s0558_re',\n",
       " 'patient294/s0559_re']"
      ]
     },
     "execution_count": 99,
     "metadata": {},
     "output_type": "execute_result"
    }
   ],
   "source": [
    "record_names"
   ]
  },
  {
   "cell_type": "code",
   "execution_count": 3,
   "metadata": {},
   "outputs": [],
   "source": [
    "data_folder = 'data'\n",
    "db = 'ptbdb'\n",
    "record_names = io.get_record_list(db)"
   ]
  },
  {
   "cell_type": "code",
   "execution_count": 4,
   "metadata": {},
   "outputs": [],
   "source": [
    "def record_to_row(record, patient_id):\n",
    "    row = {}\n",
    "    row['patient'] = patient_id\n",
    "    row['name'] = record.record_name\n",
    "    row['label'] = comments_to_dict(record.comments)['Reason for admission'][1:]\n",
    "    row['signals'] = record.p_signal\n",
    "    row['signal_length'] = record.sig_len\n",
    "    channels = record.sig_name\n",
    "    signals = record.p_signal.transpose()\n",
    "    \n",
    "    row['channels'] = channels\n",
    "    \n",
    "    for channel, signal in zip(channels, signals):\n",
    "        row[channel] = signal\n",
    "        \n",
    "    return row"
   ]
  },
  {
   "cell_type": "code",
   "execution_count": 6,
   "metadata": {},
   "outputs": [
    {
     "data": {
      "application/vnd.jupyter.widget-view+json": {
       "model_id": "70523d953283407284bad3627cc6a8f2",
       "version_major": 2,
       "version_minor": 0
      },
      "text/plain": [
       "HBox(children=(IntProgress(value=0, max=549), HTML(value='')))"
      ]
     },
     "metadata": {},
     "output_type": "display_data"
    },
    {
     "name": "stdout",
     "output_type": "stream",
     "text": [
      "\n"
     ]
    }
   ],
   "source": [
    "records = []\n",
    "for record_name in tqdm(record_names):\n",
    "    record = io.rdrecord(record_name=os.path.join('data', record_name))\n",
    "    label = comments_to_dict(record.comments)['Reason for admission'][1:]\n",
    "    patient = record_name.split('/')[0]\n",
    "    signal_length = record.sig_len\n",
    "    records.append({'name':record_name, 'label':label, 'patient':patient, 'signal_length':signal_length})\n",
    "    \n",
    "channels = record.sig_name\n",
    "df_records = pd.DataFrame(records)    "
   ]
  },
  {
   "cell_type": "code",
   "execution_count": 7,
   "metadata": {},
   "outputs": [
    {
     "data": {
      "text/plain": [
       "Myocardial infarction     368\n",
       "Healthy control            80\n",
       "n/a                        27\n",
       "Bundle branch block        17\n",
       "Cardiomyopathy             17\n",
       "Dysrhythmia                16\n",
       "Hypertrophy                 7\n",
       "Valvular heart disease      6\n",
       "Myocarditis                 4\n",
       "Stable angina               2\n",
       "Heart failure (NYHA 3)      1\n",
       "Heart failure (NYHA 2)      1\n",
       "Unstable angina             1\n",
       "Palpitation                 1\n",
       "Heart failure (NYHA 4)      1\n",
       "Name: label, dtype: int64"
      ]
     },
     "execution_count": 7,
     "metadata": {},
     "output_type": "execute_result"
    }
   ],
   "source": [
    "labels = df_records['label'].unique()\n",
    "df_records['label'].value_counts()"
   ]
  },
  {
   "cell_type": "code",
   "execution_count": 8,
   "metadata": {},
   "outputs": [],
   "source": [
    "selected_labels = [\n",
    "    'Healthy control',\n",
    "    'Myocardial infarction'\n",
    "    ]\n",
    "df_selected = df_records.loc[df_records['label'].isin(selected_labels)]\n",
    "label_map = {label: value for label, value in zip(selected_labels, range(len(selected_labels)))}"
   ]
  },
  {
   "cell_type": "code",
   "execution_count": 19,
   "metadata": {},
   "outputs": [],
   "source": [
    "test_patients = []\n",
    "train_patients = []\n",
    "test_size = 0.2\n",
    "channels\n",
    "for label in selected_labels:\n",
    "    df_selected = df_records.loc[df_records['label'] == label]\n",
    "    patients = df_selected['patient'].unique()\n",
    "    n_test = math.ceil(len(patients)*test_size)\n",
    "    test_patients+=list(np.random.choice(patients, n_test, replace=False))\n",
    "    train_patients+=list(patients[np.isin(patients, test_patients, invert=True)])\n",
    "    \n",
    "#df_selected['patient'].sample(len())"
   ]
  },
  {
   "cell_type": "code",
   "execution_count": 22,
   "metadata": {},
   "outputs": [],
   "source": [
    "def make_set(df_data, channels, label_map, record_id, window_size=2048):\n",
    "    n_windows = 0\n",
    "    \n",
    "    for _, record in tqdm(df_data.iterrows()):\n",
    "        n_windows+= record['signal_length']//window_size\n",
    "\n",
    "    dataX = np.zeros((n_windows, len(channels), window_size))\n",
    "    dataY = np.zeros((n_windows, len(label_map)))\n",
    "    \n",
    "    record_list = []\n",
    "    \n",
    "    nth_window = 0\n",
    "    for i, (patient, record) in enumerate(tqdm(df_data.iterrows())):\n",
    "        # read the record, get the signal data and transpose it\n",
    "        signal_data = io.rdrecord(os.path.join('data', record['name'])).p_signal.transpose()\n",
    "        n_rows = signal_data.shape[-1]\n",
    "        n_windows = n_rows//window_size\n",
    "        dataX[nth_window:nth_window+n_windows] = np.array([signal_data[:,i*window_size:(i+1)*window_size] for i in range(n_windows)])\n",
    "        dataY[nth_window:nth_window+n_windows][:, label_map[record.label]] = 1\n",
    "        nth_window+=n_windows\n",
    "        \n",
    "        if record_id:\n",
    "            record_list+= n_windows*[record['name']]\n",
    "        \n",
    "    return dataX, dataY, record_list"
   ]
  },
  {
   "cell_type": "code",
   "execution_count": 23,
   "metadata": {},
   "outputs": [
    {
     "data": {
      "application/vnd.jupyter.widget-view+json": {
       "model_id": "bb6892f6a7f844fbb7e05b02ce9de4fc",
       "version_major": 2,
       "version_minor": 0
      },
      "text/plain": [
       "HBox(children=(IntProgress(value=1, bar_style='info', max=1), HTML(value='')))"
      ]
     },
     "metadata": {},
     "output_type": "display_data"
    },
    {
     "name": "stdout",
     "output_type": "stream",
     "text": [
      "\n"
     ]
    },
    {
     "data": {
      "application/vnd.jupyter.widget-view+json": {
       "model_id": "f4aaac37dc7e49fc889b450328f7286e",
       "version_major": 2,
       "version_minor": 0
      },
      "text/plain": [
       "HBox(children=(IntProgress(value=1, bar_style='info', max=1), HTML(value='')))"
      ]
     },
     "metadata": {},
     "output_type": "display_data"
    },
    {
     "name": "stdout",
     "output_type": "stream",
     "text": [
      "\n"
     ]
    }
   ],
   "source": [
    "df_patient_records = df_records.set_index('patient')\n",
    "df_train_patients = df_patient_records.loc[train_patients]\n",
    "df_test_patients = df_patient_records.loc[test_patients]\n",
    "window_size = 2048#df_records['signal_length'].min()\n",
    "#trainX, trainY, _ = make_set(df_train_patients, channels, label_map, False, window_size)\n",
    "testX, testY, record_list = make_set(df_test_patients, channels, label_map, True, window_size)"
   ]
  },
  {
   "cell_type": "code",
   "execution_count": 31,
   "metadata": {},
   "outputs": [],
   "source": [
    "def make_model(input_shape, output_dim, lstm_layer, dropout=0.2):\n",
    "    print(\"model dim: \", input_shape, output_dim)\n",
    "    model = Sequential()\n",
    "    model.add(lstm_layer(256, return_sequences=True, input_shape=input_shape, batch_size=None))\n",
    "    model.add(Dropout(dropout))\n",
    "    model.add(lstm_layer(128, return_sequences=True))\n",
    "    model.add(Dropout(dropout))\n",
    "    model.add(LSTM(64))\n",
    "    model.add(Dropout(dropout))\n",
    "    model.add(Dense(output_dim, activation='softmax'))\n",
    "    model.compile(loss='categorical_crossentropy', optimizer='adam')\n",
    "    \n",
    "    return model"
   ]
  },
  {
   "cell_type": "code",
   "execution_count": 29,
   "metadata": {},
   "outputs": [],
   "source": [
    "class TimeHistory(keras.callbacks.Callback):\n",
    "    def on_train_begin(self, logs={}):\n",
    "        self.times = []\n",
    "\n",
    "    def on_epoch_begin(self, batch, logs={}):\n",
    "        self.epoch_time_start = time.time()\n",
    "\n",
    "    def on_epoch_end(self, batch, logs={}):\n",
    "        self.times.append(time.time() - self.epoch_time_start)"
   ]
  },
  {
   "cell_type": "code",
   "execution_count": 32,
   "metadata": {
    "scrolled": true
   },
   "outputs": [
    {
     "data": {
      "application/vnd.jupyter.widget-view+json": {
       "model_id": "21aa0f46e45d4d41a016dc57f4e9db69",
       "version_major": 2,
       "version_minor": 0
      },
      "text/plain": [
       "HBox(children=(IntProgress(value=1, bar_style='info', max=1), HTML(value='')))"
      ]
     },
     "metadata": {},
     "output_type": "display_data"
    },
    {
     "name": "stdout",
     "output_type": "stream",
     "text": [
      "\n"
     ]
    },
    {
     "data": {
      "application/vnd.jupyter.widget-view+json": {
       "model_id": "24bf302f81dd4f58a5606277141befcd",
       "version_major": 2,
       "version_minor": 0
      },
      "text/plain": [
       "HBox(children=(IntProgress(value=1, bar_style='info', max=1), HTML(value='')))"
      ]
     },
     "metadata": {},
     "output_type": "display_data"
    },
    {
     "name": "stdout",
     "output_type": "stream",
     "text": [
      "\n"
     ]
    },
    {
     "data": {
      "application/vnd.jupyter.widget-view+json": {
       "model_id": "2f3e710b15554882b5c84027ea84f9f0",
       "version_major": 2,
       "version_minor": 0
      },
      "text/plain": [
       "HBox(children=(IntProgress(value=1, bar_style='info', max=1), HTML(value='')))"
      ]
     },
     "metadata": {},
     "output_type": "display_data"
    },
    {
     "name": "stdout",
     "output_type": "stream",
     "text": [
      "\n"
     ]
    },
    {
     "data": {
      "application/vnd.jupyter.widget-view+json": {
       "model_id": "91fa4869f92044bcb603dfb9f7d8cf0e",
       "version_major": 2,
       "version_minor": 0
      },
      "text/plain": [
       "HBox(children=(IntProgress(value=1, bar_style='info', max=1), HTML(value='')))"
      ]
     },
     "metadata": {},
     "output_type": "display_data"
    },
    {
     "name": "stdout",
     "output_type": "stream",
     "text": [
      "\n",
      "model dim:  (15, 2048) 2\n",
      "Epoch 1/50\n",
      "19910/19910 [==============================] - ETA: 1:57 - loss: 0.212 - ETA: 1:00 - loss: 0.217 - ETA: 41s - loss: 0.213 - ETA: 31s - loss: 0.21 - ETA: 26s - loss: 0.20 - ETA: 22s - loss: 0.21 - ETA: 19s - loss: 0.20 - ETA: 17s - loss: 0.20 - ETA: 15s - loss: 0.20 - ETA: 14s - loss: 0.20 - ETA: 12s - loss: 0.20 - ETA: 11s - loss: 0.20 - ETA: 10s - loss: 0.20 - ETA: 9s - loss: 0.2039 - ETA: 9s - loss: 0.202 - ETA: 8s - loss: 0.201 - ETA: 7s - loss: 0.202 - ETA: 7s - loss: 0.201 - ETA: 6s - loss: 0.200 - ETA: 6s - loss: 0.198 - ETA: 5s - loss: 0.198 - ETA: 5s - loss: 0.197 - ETA: 4s - loss: 0.196 - ETA: 4s - loss: 0.195 - ETA: 4s - loss: 0.194 - ETA: 3s - loss: 0.194 - ETA: 3s - loss: 0.193 - ETA: 3s - loss: 0.193 - ETA: 2s - loss: 0.192 - ETA: 2s - loss: 0.191 - ETA: 2s - loss: 0.190 - ETA: 1s - loss: 0.190 - ETA: 1s - loss: 0.189 - ETA: 1s - loss: 0.188 - ETA: 1s - loss: 0.187 - ETA: 0s - loss: 0.186 - ETA: 0s - loss: 0.186 - ETA: 0s - loss: 0.185 - 10s 512us/step - loss: 0.1853\n",
      "\n",
      "Epoch 00001: loss improved from inf to 0.18532, saving model to models\\weights-improvement-01-bigger.hdf5\n",
      "Epoch 2/50\n",
      "19910/19910 [==============================] - ETA: 6s - loss: 0.153 - ETA: 6s - loss: 0.149 - ETA: 6s - loss: 0.144 - ETA: 6s - loss: 0.144 - ETA: 5s - loss: 0.140 - ETA: 5s - loss: 0.137 - ETA: 5s - loss: 0.142 - ETA: 5s - loss: 0.143 - ETA: 5s - loss: 0.143 - ETA: 5s - loss: 0.143 - ETA: 4s - loss: 0.143 - ETA: 4s - loss: 0.143 - ETA: 4s - loss: 0.144 - ETA: 4s - loss: 0.144 - ETA: 4s - loss: 0.144 - ETA: 4s - loss: 0.143 - ETA: 3s - loss: 0.144 - ETA: 3s - loss: 0.144 - ETA: 3s - loss: 0.144 - ETA: 3s - loss: 0.144 - ETA: 3s - loss: 0.144 - ETA: 3s - loss: 0.144 - ETA: 2s - loss: 0.144 - ETA: 2s - loss: 0.142 - ETA: 2s - loss: 0.142 - ETA: 2s - loss: 0.142 - ETA: 2s - loss: 0.142 - ETA: 1s - loss: 0.141 - ETA: 1s - loss: 0.141 - ETA: 1s - loss: 0.141 - ETA: 1s - loss: 0.140 - ETA: 1s - loss: 0.140 - ETA: 1s - loss: 0.139 - ETA: 0s - loss: 0.139 - ETA: 0s - loss: 0.139 - ETA: 0s - loss: 0.139 - ETA: 0s - loss: 0.139 - ETA: 0s - loss: 0.139 - 7s 345us/step - loss: 0.1388\n",
      "\n",
      "Epoch 00002: loss improved from 0.18532 to 0.13880, saving model to models\\weights-improvement-02-bigger.hdf5\n",
      "Epoch 3/50\n",
      "19910/19910 [==============================] - ETA: 6s - loss: 0.102 - ETA: 6s - loss: 0.113 - ETA: 6s - loss: 0.117 - ETA: 6s - loss: 0.118 - ETA: 5s - loss: 0.117 - ETA: 5s - loss: 0.119 - ETA: 5s - loss: 0.118 - ETA: 5s - loss: 0.119 - ETA: 5s - loss: 0.120 - ETA: 4s - loss: 0.117 - ETA: 4s - loss: 0.117 - ETA: 4s - loss: 0.117 - ETA: 4s - loss: 0.119 - ETA: 4s - loss: 0.118 - ETA: 4s - loss: 0.117 - ETA: 3s - loss: 0.116 - ETA: 3s - loss: 0.116 - ETA: 3s - loss: 0.116 - ETA: 3s - loss: 0.116 - ETA: 3s - loss: 0.116 - ETA: 3s - loss: 0.116 - ETA: 2s - loss: 0.117 - ETA: 2s - loss: 0.117 - ETA: 2s - loss: 0.116 - ETA: 2s - loss: 0.116 - ETA: 2s - loss: 0.116 - ETA: 2s - loss: 0.115 - ETA: 1s - loss: 0.115 - ETA: 1s - loss: 0.114 - ETA: 1s - loss: 0.115 - ETA: 1s - loss: 0.115 - ETA: 1s - loss: 0.114 - ETA: 1s - loss: 0.114 - ETA: 0s - loss: 0.114 - ETA: 0s - loss: 0.114 - ETA: 0s - loss: 0.113 - ETA: 0s - loss: 0.113 - ETA: 0s - loss: 0.113 - 7s 338us/step - loss: 0.1132\n",
      "\n",
      "Epoch 00003: loss improved from 0.13880 to 0.11318, saving model to models\\weights-improvement-03-bigger.hdf5\n",
      "Epoch 4/50\n",
      "19910/19910 [==============================] - ETA: 6s - loss: 0.095 - ETA: 6s - loss: 0.099 - ETA: 6s - loss: 0.097 - ETA: 6s - loss: 0.103 - ETA: 5s - loss: 0.101 - ETA: 5s - loss: 0.102 - ETA: 5s - loss: 0.100 - ETA: 5s - loss: 0.100 - ETA: 5s - loss: 0.101 - ETA: 5s - loss: 0.099 - ETA: 4s - loss: 0.098 - ETA: 4s - loss: 0.096 - ETA: 4s - loss: 0.095 - ETA: 4s - loss: 0.094 - ETA: 4s - loss: 0.093 - ETA: 3s - loss: 0.092 - ETA: 3s - loss: 0.092 - ETA: 3s - loss: 0.092 - ETA: 3s - loss: 0.093 - ETA: 3s - loss: 0.093 - ETA: 3s - loss: 0.092 - ETA: 2s - loss: 0.091 - ETA: 2s - loss: 0.091 - ETA: 2s - loss: 0.092 - ETA: 2s - loss: 0.092 - ETA: 2s - loss: 0.092 - ETA: 2s - loss: 0.092 - ETA: 1s - loss: 0.092 - ETA: 1s - loss: 0.092 - ETA: 1s - loss: 0.092 - ETA: 1s - loss: 0.092 - ETA: 1s - loss: 0.092 - ETA: 1s - loss: 0.092 - ETA: 0s - loss: 0.092 - ETA: 0s - loss: 0.092 - ETA: 0s - loss: 0.091 - ETA: 0s - loss: 0.091 - ETA: 0s - loss: 0.091 - 7s 339us/step - loss: 0.0915\n",
      "\n",
      "Epoch 00004: loss improved from 0.11318 to 0.09154, saving model to models\\weights-improvement-04-bigger.hdf5\n",
      "Epoch 5/50\n",
      "19910/19910 [==============================] - ETA: 6s - loss: 0.068 - ETA: 6s - loss: 0.066 - ETA: 6s - loss: 0.067 - ETA: 6s - loss: 0.072 - ETA: 5s - loss: 0.075 - ETA: 5s - loss: 0.074 - ETA: 5s - loss: 0.074 - ETA: 5s - loss: 0.074 - ETA: 5s - loss: 0.072 - ETA: 4s - loss: 0.071 - ETA: 4s - loss: 0.075 - ETA: 4s - loss: 0.074 - ETA: 4s - loss: 0.075 - ETA: 4s - loss: 0.075 - ETA: 4s - loss: 0.073 - ETA: 3s - loss: 0.074 - ETA: 3s - loss: 0.074 - ETA: 3s - loss: 0.073 - ETA: 3s - loss: 0.073 - ETA: 3s - loss: 0.073 - ETA: 3s - loss: 0.073 - ETA: 2s - loss: 0.072 - ETA: 2s - loss: 0.073 - ETA: 2s - loss: 0.073 - ETA: 2s - loss: 0.073 - ETA: 2s - loss: 0.072 - ETA: 2s - loss: 0.072 - ETA: 1s - loss: 0.072 - ETA: 1s - loss: 0.072 - ETA: 1s - loss: 0.072 - ETA: 1s - loss: 0.072 - ETA: 1s - loss: 0.072 - ETA: 1s - loss: 0.072 - ETA: 0s - loss: 0.072 - ETA: 0s - loss: 0.072 - ETA: 0s - loss: 0.072 - ETA: 0s - loss: 0.072 - ETA: 0s - loss: 0.072 - 7s 339us/step - loss: 0.0725\n",
      "\n",
      "Epoch 00005: loss improved from 0.09154 to 0.07246, saving model to models\\weights-improvement-05-bigger.hdf5\n",
      "Epoch 6/50\n",
      "19910/19910 [==============================] - ETA: 6s - loss: 0.050 - ETA: 6s - loss: 0.054 - ETA: 6s - loss: 0.052 - ETA: 6s - loss: 0.053 - ETA: 5s - loss: 0.051 - ETA: 5s - loss: 0.052 - ETA: 5s - loss: 0.051 - ETA: 5s - loss: 0.050 - ETA: 5s - loss: 0.051 - ETA: 4s - loss: 0.051 - ETA: 4s - loss: 0.053 - ETA: 4s - loss: 0.052 - ETA: 4s - loss: 0.053 - ETA: 4s - loss: 0.053 - ETA: 4s - loss: 0.053 - ETA: 3s - loss: 0.055 - ETA: 3s - loss: 0.056 - ETA: 3s - loss: 0.057 - ETA: 3s - loss: 0.057 - ETA: 3s - loss: 0.058 - ETA: 3s - loss: 0.057 - ETA: 2s - loss: 0.058 - ETA: 2s - loss: 0.058 - ETA: 2s - loss: 0.058 - ETA: 2s - loss: 0.058 - ETA: 2s - loss: 0.058 - ETA: 2s - loss: 0.058 - ETA: 1s - loss: 0.058 - ETA: 1s - loss: 0.058 - ETA: 1s - loss: 0.058 - ETA: 1s - loss: 0.058 - ETA: 1s - loss: 0.058 - ETA: 1s - loss: 0.058 - ETA: 0s - loss: 0.059 - ETA: 0s - loss: 0.059 - ETA: 0s - loss: 0.059 - ETA: 0s - loss: 0.059 - ETA: 0s - loss: 0.059 - 7s 339us/step - loss: 0.0598\n",
      "\n",
      "Epoch 00006: loss improved from 0.07246 to 0.05984, saving model to models\\weights-improvement-06-bigger.hdf5\n",
      "Epoch 7/50\n",
      "19910/19910 [==============================] - ETA: 6s - loss: 0.048 - ETA: 6s - loss: 0.048 - ETA: 6s - loss: 0.055 - ETA: 5s - loss: 0.057 - ETA: 5s - loss: 0.054 - ETA: 5s - loss: 0.055 - ETA: 5s - loss: 0.055 - ETA: 5s - loss: 0.054 - ETA: 5s - loss: 0.053 - ETA: 5s - loss: 0.053 - ETA: 4s - loss: 0.053 - ETA: 4s - loss: 0.052 - ETA: 4s - loss: 0.052 - ETA: 4s - loss: 0.052 - ETA: 4s - loss: 0.052 - ETA: 3s - loss: 0.051 - ETA: 3s - loss: 0.051 - ETA: 3s - loss: 0.051 - ETA: 3s - loss: 0.051 - ETA: 3s - loss: 0.051 - ETA: 3s - loss: 0.051 - ETA: 2s - loss: 0.051 - ETA: 2s - loss: 0.050 - ETA: 2s - loss: 0.050 - ETA: 2s - loss: 0.050 - ETA: 2s - loss: 0.049 - ETA: 2s - loss: 0.050 - ETA: 1s - loss: 0.050 - ETA: 1s - loss: 0.050 - ETA: 1s - loss: 0.050 - ETA: 1s - loss: 0.050 - ETA: 1s - loss: 0.049 - ETA: 1s - loss: 0.049 - ETA: 0s - loss: 0.049 - ETA: 0s - loss: 0.049 - ETA: 0s - loss: 0.049 - ETA: 0s - loss: 0.048 - ETA: 0s - loss: 0.049 - 7s 338us/step - loss: 0.0494\n",
      "\n",
      "Epoch 00007: loss improved from 0.05984 to 0.04944, saving model to models\\weights-improvement-07-bigger.hdf5\n",
      "Epoch 8/50\n",
      "19910/19910 [==============================] - ETA: 6s - loss: 0.045 - ETA: 6s - loss: 0.044 - ETA: 6s - loss: 0.042 - ETA: 6s - loss: 0.042 - ETA: 5s - loss: 0.040 - ETA: 5s - loss: 0.038 - ETA: 5s - loss: 0.039 - ETA: 5s - loss: 0.040 - ETA: 5s - loss: 0.039 - ETA: 4s - loss: 0.039 - ETA: 4s - loss: 0.038 - ETA: 4s - loss: 0.037 - ETA: 4s - loss: 0.037 - ETA: 4s - loss: 0.037 - ETA: 4s - loss: 0.037 - ETA: 3s - loss: 0.037 - ETA: 3s - loss: 0.037 - ETA: 3s - loss: 0.037 - ETA: 3s - loss: 0.039 - ETA: 3s - loss: 0.039 - ETA: 3s - loss: 0.040 - ETA: 2s - loss: 0.040 - ETA: 2s - loss: 0.040 - ETA: 2s - loss: 0.041 - ETA: 2s - loss: 0.041 - ETA: 2s - loss: 0.042 - ETA: 2s - loss: 0.042 - ETA: 1s - loss: 0.043 - ETA: 1s - loss: 0.043 - ETA: 1s - loss: 0.043 - ETA: 1s - loss: 0.043 - ETA: 1s - loss: 0.044 - ETA: 1s - loss: 0.044 - ETA: 0s - loss: 0.044 - ETA: 0s - loss: 0.044 - ETA: 0s - loss: 0.044 - ETA: 0s - loss: 0.044 - ETA: 0s - loss: 0.044 - 7s 340us/step - loss: 0.0450\n",
      "\n",
      "Epoch 00008: loss improved from 0.04944 to 0.04498, saving model to models\\weights-improvement-08-bigger.hdf5\n",
      "Epoch 9/50\n",
      "19910/19910 [==============================] - ETA: 6s - loss: 0.036 - ETA: 6s - loss: 0.034 - ETA: 6s - loss: 0.032 - ETA: 6s - loss: 0.034 - ETA: 5s - loss: 0.036 - ETA: 5s - loss: 0.035 - ETA: 5s - loss: 0.036 - ETA: 5s - loss: 0.036 - ETA: 5s - loss: 0.037 - ETA: 4s - loss: 0.038 - ETA: 4s - loss: 0.037 - ETA: 4s - loss: 0.037 - ETA: 4s - loss: 0.038 - ETA: 4s - loss: 0.037 - ETA: 4s - loss: 0.037 - ETA: 3s - loss: 0.037 - ETA: 3s - loss: 0.037 - ETA: 3s - loss: 0.037 - ETA: 3s - loss: 0.036 - ETA: 3s - loss: 0.037 - ETA: 3s - loss: 0.036 - ETA: 2s - loss: 0.036 - ETA: 2s - loss: 0.036 - ETA: 2s - loss: 0.036 - ETA: 2s - loss: 0.037 - ETA: 2s - loss: 0.037 - ETA: 2s - loss: 0.036 - ETA: 1s - loss: 0.036 - ETA: 1s - loss: 0.037 - ETA: 1s - loss: 0.037 - ETA: 1s - loss: 0.037 - ETA: 1s - loss: 0.037 - ETA: 1s - loss: 0.037 - ETA: 0s - loss: 0.037 - ETA: 0s - loss: 0.037 - ETA: 0s - loss: 0.037 - ETA: 0s - loss: 0.037 - ETA: 0s - loss: 0.037 - 7s 340us/step - loss: 0.0373\n",
      "\n",
      "Epoch 00009: loss improved from 0.04498 to 0.03727, saving model to models\\weights-improvement-09-bigger.hdf5\n",
      "Epoch 10/50\n",
      "19910/19910 [==============================] - ETA: 6s - loss: 0.032 - ETA: 6s - loss: 0.027 - ETA: 6s - loss: 0.027 - ETA: 6s - loss: 0.030 - ETA: 5s - loss: 0.033 - ETA: 5s - loss: 0.033 - ETA: 5s - loss: 0.034 - ETA: 5s - loss: 0.033 - ETA: 5s - loss: 0.034 - ETA: 5s - loss: 0.034 - ETA: 4s - loss: 0.033 - ETA: 4s - loss: 0.033 - ETA: 4s - loss: 0.034 - ETA: 4s - loss: 0.034 - ETA: 4s - loss: 0.033 - ETA: 3s - loss: 0.033 - ETA: 3s - loss: 0.034 - ETA: 3s - loss: 0.033 - ETA: 3s - loss: 0.033 - ETA: 3s - loss: 0.032 - ETA: 3s - loss: 0.032 - ETA: 2s - loss: 0.032 - ETA: 2s - loss: 0.032 - ETA: 2s - loss: 0.032 - ETA: 2s - loss: 0.032 - ETA: 2s - loss: 0.031 - ETA: 2s - loss: 0.032 - ETA: 1s - loss: 0.032 - ETA: 1s - loss: 0.031 - ETA: 1s - loss: 0.032 - ETA: 1s - loss: 0.032 - ETA: 1s - loss: 0.032 - ETA: 1s - loss: 0.032 - ETA: 0s - loss: 0.032 - ETA: 0s - loss: 0.032 - ETA: 0s - loss: 0.032 - ETA: 0s - loss: 0.032 - ETA: 0s - loss: 0.032 - 7s 341us/step - loss: 0.0323\n",
      "\n",
      "Epoch 00010: loss improved from 0.03727 to 0.03233, saving model to models\\weights-improvement-10-bigger.hdf5\n",
      "Epoch 11/50\n",
      "19910/19910 [==============================] - ETA: 6s - loss: 0.021 - ETA: 6s - loss: 0.028 - ETA: 6s - loss: 0.025 - ETA: 6s - loss: 0.028 - ETA: 5s - loss: 0.028 - ETA: 5s - loss: 0.028 - ETA: 5s - loss: 0.027 - ETA: 5s - loss: 0.027 - ETA: 5s - loss: 0.027 - ETA: 5s - loss: 0.027 - ETA: 4s - loss: 0.027 - ETA: 4s - loss: 0.027 - ETA: 4s - loss: 0.027 - ETA: 4s - loss: 0.027 - ETA: 4s - loss: 0.027 - ETA: 3s - loss: 0.027 - ETA: 3s - loss: 0.026 - ETA: 3s - loss: 0.026 - ETA: 3s - loss: 0.026 - ETA: 3s - loss: 0.027 - ETA: 3s - loss: 0.027 - ETA: 2s - loss: 0.028 - ETA: 2s - loss: 0.028 - ETA: 2s - loss: 0.028 - ETA: 2s - loss: 0.028 - ETA: 2s - loss: 0.029 - ETA: 2s - loss: 0.028 - ETA: 1s - loss: 0.028 - ETA: 1s - loss: 0.029 - ETA: 1s - loss: 0.029 - ETA: 1s - loss: 0.029 - ETA: 1s - loss: 0.029 - ETA: 1s - loss: 0.029 - ETA: 0s - loss: 0.029 - ETA: 0s - loss: 0.029 - ETA: 0s - loss: 0.029 - ETA: 0s - loss: 0.029 - ETA: 0s - loss: 0.029 - 7s 339us/step - loss: 0.0298\n",
      "\n",
      "Epoch 00011: loss improved from 0.03233 to 0.02983, saving model to models\\weights-improvement-11-bigger.hdf5\n",
      "Epoch 12/50\n",
      "19910/19910 [==============================] - ETA: 6s - loss: 0.024 - ETA: 6s - loss: 0.023 - ETA: 6s - loss: 0.022 - ETA: 5s - loss: 0.023 - ETA: 5s - loss: 0.021 - ETA: 5s - loss: 0.021 - ETA: 5s - loss: 0.021 - ETA: 5s - loss: 0.021 - ETA: 5s - loss: 0.021 - ETA: 4s - loss: 0.021 - ETA: 4s - loss: 0.021 - ETA: 4s - loss: 0.021 - ETA: 4s - loss: 0.020 - ETA: 4s - loss: 0.021 - ETA: 4s - loss: 0.020 - ETA: 3s - loss: 0.020 - ETA: 3s - loss: 0.021 - ETA: 3s - loss: 0.021 - ETA: 3s - loss: 0.021 - ETA: 3s - loss: 0.021 - ETA: 3s - loss: 0.021 - ETA: 2s - loss: 0.021 - ETA: 2s - loss: 0.021 - ETA: 2s - loss: 0.022 - ETA: 2s - loss: 0.021 - ETA: 2s - loss: 0.022 - ETA: 2s - loss: 0.022 - ETA: 1s - loss: 0.022 - ETA: 1s - loss: 0.022 - ETA: 1s - loss: 0.023 - ETA: 1s - loss: 0.022 - ETA: 1s - loss: 0.022 - ETA: 1s - loss: 0.022 - ETA: 0s - loss: 0.022 - ETA: 0s - loss: 0.022 - ETA: 0s - loss: 0.022 - ETA: 0s - loss: 0.022 - ETA: 0s - loss: 0.022 - 7s 340us/step - loss: 0.0229\n",
      "\n",
      "Epoch 00012: loss improved from 0.02983 to 0.02289, saving model to models\\weights-improvement-12-bigger.hdf5\n",
      "Epoch 13/50\n",
      "19910/19910 [==============================] - ETA: 6s - loss: 0.020 - ETA: 6s - loss: 0.019 - ETA: 6s - loss: 0.018 - ETA: 6s - loss: 0.018 - ETA: 5s - loss: 0.019 - ETA: 5s - loss: 0.019 - ETA: 5s - loss: 0.019 - ETA: 5s - loss: 0.020 - ETA: 5s - loss: 0.020 - ETA: 5s - loss: 0.020 - ETA: 4s - loss: 0.020 - ETA: 4s - loss: 0.019 - ETA: 4s - loss: 0.019 - ETA: 4s - loss: 0.019 - ETA: 4s - loss: 0.019 - ETA: 3s - loss: 0.019 - ETA: 3s - loss: 0.019 - ETA: 3s - loss: 0.020 - ETA: 3s - loss: 0.020 - ETA: 3s - loss: 0.020 - ETA: 3s - loss: 0.020 - ETA: 2s - loss: 0.020 - ETA: 2s - loss: 0.020 - ETA: 2s - loss: 0.020 - ETA: 2s - loss: 0.021 - ETA: 2s - loss: 0.021 - ETA: 2s - loss: 0.020 - ETA: 1s - loss: 0.021 - ETA: 1s - loss: 0.021 - ETA: 1s - loss: 0.021 - ETA: 1s - loss: 0.021 - ETA: 1s - loss: 0.021 - ETA: 1s - loss: 0.021 - ETA: 0s - loss: 0.021 - ETA: 0s - loss: 0.021 - ETA: 0s - loss: 0.021 - ETA: 0s - loss: 0.021 - ETA: 0s - loss: 0.021 - 7s 339us/step - loss: 0.0213\n",
      "\n",
      "Epoch 00013: loss improved from 0.02289 to 0.02126, saving model to models\\weights-improvement-13-bigger.hdf5\n",
      "Epoch 14/50\n",
      "19910/19910 [==============================] - ETA: 6s - loss: 0.009 - ETA: 6s - loss: 0.012 - ETA: 6s - loss: 0.014 - ETA: 6s - loss: 0.015 - ETA: 5s - loss: 0.014 - ETA: 5s - loss: 0.016 - ETA: 5s - loss: 0.016 - ETA: 5s - loss: 0.018 - ETA: 5s - loss: 0.018 - ETA: 5s - loss: 0.018 - ETA: 4s - loss: 0.017 - ETA: 4s - loss: 0.017 - ETA: 4s - loss: 0.018 - ETA: 4s - loss: 0.018 - ETA: 4s - loss: 0.018 - ETA: 3s - loss: 0.018 - ETA: 3s - loss: 0.018 - ETA: 3s - loss: 0.018 - ETA: 3s - loss: 0.018 - ETA: 3s - loss: 0.018 - ETA: 3s - loss: 0.019 - ETA: 2s - loss: 0.019 - ETA: 2s - loss: 0.019 - ETA: 2s - loss: 0.019 - ETA: 2s - loss: 0.020 - ETA: 2s - loss: 0.020 - ETA: 2s - loss: 0.020 - ETA: 1s - loss: 0.020 - ETA: 1s - loss: 0.020 - ETA: 1s - loss: 0.020 - ETA: 1s - loss: 0.020 - ETA: 1s - loss: 0.021 - ETA: 1s - loss: 0.020 - ETA: 0s - loss: 0.020 - ETA: 0s - loss: 0.020 - ETA: 0s - loss: 0.020 - ETA: 0s - loss: 0.020 - ETA: 0s - loss: 0.020 - 7s 340us/step - loss: 0.0202\n",
      "\n",
      "Epoch 00014: loss improved from 0.02126 to 0.02017, saving model to models\\weights-improvement-14-bigger.hdf5\n",
      "Epoch 15/50\n"
     ]
    },
    {
     "name": "stdout",
     "output_type": "stream",
     "text": [
      "19910/19910 [==============================] - ETA: 6s - loss: 0.014 - ETA: 6s - loss: 0.015 - ETA: 6s - loss: 0.014 - ETA: 6s - loss: 0.014 - ETA: 5s - loss: 0.014 - ETA: 5s - loss: 0.014 - ETA: 5s - loss: 0.016 - ETA: 5s - loss: 0.016 - ETA: 5s - loss: 0.016 - ETA: 5s - loss: 0.015 - ETA: 4s - loss: 0.015 - ETA: 4s - loss: 0.015 - ETA: 4s - loss: 0.015 - ETA: 4s - loss: 0.015 - ETA: 4s - loss: 0.015 - ETA: 3s - loss: 0.015 - ETA: 3s - loss: 0.015 - ETA: 3s - loss: 0.015 - ETA: 3s - loss: 0.015 - ETA: 3s - loss: 0.015 - ETA: 3s - loss: 0.016 - ETA: 2s - loss: 0.016 - ETA: 2s - loss: 0.016 - ETA: 2s - loss: 0.016 - ETA: 2s - loss: 0.018 - ETA: 2s - loss: 0.017 - ETA: 2s - loss: 0.017 - ETA: 1s - loss: 0.017 - ETA: 1s - loss: 0.017 - ETA: 1s - loss: 0.018 - ETA: 1s - loss: 0.018 - ETA: 1s - loss: 0.018 - ETA: 1s - loss: 0.018 - ETA: 0s - loss: 0.018 - ETA: 0s - loss: 0.018 - ETA: 0s - loss: 0.018 - ETA: 0s - loss: 0.018 - ETA: 0s - loss: 0.018 - 7s 340us/step - loss: 0.0185\n",
      "\n",
      "Epoch 00015: loss improved from 0.02017 to 0.01849, saving model to models\\weights-improvement-15-bigger.hdf5\n",
      "Epoch 16/50\n",
      "19910/19910 [==============================] - ETA: 6s - loss: 0.009 - ETA: 6s - loss: 0.011 - ETA: 6s - loss: 0.015 - ETA: 6s - loss: 0.014 - ETA: 5s - loss: 0.016 - ETA: 5s - loss: 0.015 - ETA: 5s - loss: 0.016 - ETA: 5s - loss: 0.016 - ETA: 5s - loss: 0.017 - ETA: 4s - loss: 0.017 - ETA: 4s - loss: 0.017 - ETA: 4s - loss: 0.018 - ETA: 4s - loss: 0.018 - ETA: 4s - loss: 0.018 - ETA: 4s - loss: 0.018 - ETA: 3s - loss: 0.019 - ETA: 3s - loss: 0.019 - ETA: 3s - loss: 0.019 - ETA: 3s - loss: 0.018 - ETA: 3s - loss: 0.019 - ETA: 3s - loss: 0.019 - ETA: 2s - loss: 0.019 - ETA: 2s - loss: 0.019 - ETA: 2s - loss: 0.019 - ETA: 2s - loss: 0.019 - ETA: 2s - loss: 0.019 - ETA: 2s - loss: 0.019 - ETA: 1s - loss: 0.020 - ETA: 1s - loss: 0.019 - ETA: 1s - loss: 0.020 - ETA: 1s - loss: 0.019 - ETA: 1s - loss: 0.019 - ETA: 1s - loss: 0.019 - ETA: 0s - loss: 0.019 - ETA: 0s - loss: 0.019 - ETA: 0s - loss: 0.019 - ETA: 0s - loss: 0.019 - ETA: 0s - loss: 0.019 - 7s 339us/step - loss: 0.0196\n",
      "\n",
      "Epoch 00016: loss did not improve from 0.01849\n",
      "Epoch 17/50\n",
      "19910/19910 [==============================] - ETA: 6s - loss: 0.021 - ETA: 6s - loss: 0.015 - ETA: 6s - loss: 0.017 - ETA: 5s - loss: 0.015 - ETA: 5s - loss: 0.015 - ETA: 5s - loss: 0.014 - ETA: 5s - loss: 0.014 - ETA: 5s - loss: 0.015 - ETA: 5s - loss: 0.015 - ETA: 5s - loss: 0.016 - ETA: 4s - loss: 0.017 - ETA: 4s - loss: 0.017 - ETA: 4s - loss: 0.017 - ETA: 4s - loss: 0.017 - ETA: 4s - loss: 0.017 - ETA: 3s - loss: 0.017 - ETA: 3s - loss: 0.017 - ETA: 3s - loss: 0.017 - ETA: 3s - loss: 0.018 - ETA: 3s - loss: 0.018 - ETA: 3s - loss: 0.018 - ETA: 2s - loss: 0.018 - ETA: 2s - loss: 0.017 - ETA: 2s - loss: 0.018 - ETA: 2s - loss: 0.018 - ETA: 2s - loss: 0.018 - ETA: 2s - loss: 0.018 - ETA: 1s - loss: 0.018 - ETA: 1s - loss: 0.017 - ETA: 1s - loss: 0.018 - ETA: 1s - loss: 0.018 - ETA: 1s - loss: 0.018 - ETA: 1s - loss: 0.018 - ETA: 0s - loss: 0.018 - ETA: 0s - loss: 0.018 - ETA: 0s - loss: 0.018 - ETA: 0s - loss: 0.017 - ETA: 0s - loss: 0.017 - 7s 339us/step - loss: 0.0178\n",
      "\n",
      "Epoch 00017: loss improved from 0.01849 to 0.01781, saving model to models\\weights-improvement-17-bigger.hdf5\n",
      "Epoch 18/50\n",
      "19910/19910 [==============================] - ETA: 6s - loss: 0.026 - ETA: 6s - loss: 0.017 - ETA: 6s - loss: 0.015 - ETA: 5s - loss: 0.014 - ETA: 5s - loss: 0.014 - ETA: 5s - loss: 0.013 - ETA: 5s - loss: 0.013 - ETA: 5s - loss: 0.012 - ETA: 5s - loss: 0.012 - ETA: 4s - loss: 0.013 - ETA: 4s - loss: 0.013 - ETA: 4s - loss: 0.012 - ETA: 4s - loss: 0.012 - ETA: 4s - loss: 0.012 - ETA: 4s - loss: 0.013 - ETA: 3s - loss: 0.013 - ETA: 3s - loss: 0.013 - ETA: 3s - loss: 0.013 - ETA: 3s - loss: 0.012 - ETA: 3s - loss: 0.013 - ETA: 3s - loss: 0.013 - ETA: 2s - loss: 0.013 - ETA: 2s - loss: 0.013 - ETA: 2s - loss: 0.013 - ETA: 2s - loss: 0.013 - ETA: 2s - loss: 0.013 - ETA: 2s - loss: 0.012 - ETA: 1s - loss: 0.012 - ETA: 1s - loss: 0.012 - ETA: 1s - loss: 0.012 - ETA: 1s - loss: 0.012 - ETA: 1s - loss: 0.013 - ETA: 1s - loss: 0.012 - ETA: 0s - loss: 0.013 - ETA: 0s - loss: 0.013 - ETA: 0s - loss: 0.012 - ETA: 0s - loss: 0.012 - ETA: 0s - loss: 0.012 - 7s 353us/step - loss: 0.0128\n",
      "\n",
      "Epoch 00018: loss improved from 0.01781 to 0.01281, saving model to models\\weights-improvement-18-bigger.hdf5\n",
      "Epoch 19/50\n",
      "19910/19910 [==============================] - ETA: 6s - loss: 0.017 - ETA: 6s - loss: 0.018 - ETA: 5s - loss: 0.016 - ETA: 5s - loss: 0.014 - ETA: 5s - loss: 0.013 - ETA: 5s - loss: 0.013 - ETA: 5s - loss: 0.014 - ETA: 5s - loss: 0.013 - ETA: 5s - loss: 0.012 - ETA: 4s - loss: 0.011 - ETA: 4s - loss: 0.012 - ETA: 4s - loss: 0.012 - ETA: 4s - loss: 0.012 - ETA: 4s - loss: 0.012 - ETA: 4s - loss: 0.012 - ETA: 3s - loss: 0.012 - ETA: 3s - loss: 0.012 - ETA: 3s - loss: 0.012 - ETA: 3s - loss: 0.012 - ETA: 3s - loss: 0.012 - ETA: 3s - loss: 0.012 - ETA: 2s - loss: 0.012 - ETA: 2s - loss: 0.012 - ETA: 2s - loss: 0.012 - ETA: 2s - loss: 0.012 - ETA: 2s - loss: 0.012 - ETA: 2s - loss: 0.012 - ETA: 1s - loss: 0.012 - ETA: 1s - loss: 0.012 - ETA: 1s - loss: 0.013 - ETA: 1s - loss: 0.012 - ETA: 1s - loss: 0.013 - ETA: 1s - loss: 0.013 - ETA: 0s - loss: 0.013 - ETA: 0s - loss: 0.013 - ETA: 0s - loss: 0.013 - ETA: 0s - loss: 0.014 - ETA: 0s - loss: 0.014 - 7s 339us/step - loss: 0.0143\n",
      "\n",
      "Epoch 00019: loss did not improve from 0.01281\n",
      "Epoch 20/50\n",
      "19910/19910 [==============================] - ETA: 6s - loss: 0.010 - ETA: 6s - loss: 0.017 - ETA: 6s - loss: 0.018 - ETA: 6s - loss: 0.018 - ETA: 5s - loss: 0.017 - ETA: 5s - loss: 0.016 - ETA: 5s - loss: 0.015 - ETA: 5s - loss: 0.015 - ETA: 5s - loss: 0.014 - ETA: 5s - loss: 0.013 - ETA: 4s - loss: 0.013 - ETA: 4s - loss: 0.013 - ETA: 4s - loss: 0.013 - ETA: 4s - loss: 0.013 - ETA: 4s - loss: 0.013 - ETA: 4s - loss: 0.013 - ETA: 3s - loss: 0.012 - ETA: 3s - loss: 0.012 - ETA: 3s - loss: 0.012 - ETA: 3s - loss: 0.012 - ETA: 3s - loss: 0.012 - ETA: 3s - loss: 0.011 - ETA: 2s - loss: 0.011 - ETA: 2s - loss: 0.011 - ETA: 2s - loss: 0.011 - ETA: 2s - loss: 0.011 - ETA: 2s - loss: 0.011 - ETA: 1s - loss: 0.011 - ETA: 1s - loss: 0.011 - ETA: 1s - loss: 0.011 - ETA: 1s - loss: 0.011 - ETA: 1s - loss: 0.011 - ETA: 1s - loss: 0.011 - ETA: 0s - loss: 0.011 - ETA: 0s - loss: 0.011 - ETA: 0s - loss: 0.011 - ETA: 0s - loss: 0.012 - ETA: 0s - loss: 0.012 - 7s 347us/step - loss: 0.0121\n",
      "\n",
      "Epoch 00020: loss improved from 0.01281 to 0.01214, saving model to models\\weights-improvement-20-bigger.hdf5\n",
      "Epoch 21/50\n",
      "19910/19910 [==============================] - ETA: 6s - loss: 0.015 - ETA: 6s - loss: 0.017 - ETA: 6s - loss: 0.014 - ETA: 5s - loss: 0.013 - ETA: 5s - loss: 0.013 - ETA: 5s - loss: 0.011 - ETA: 5s - loss: 0.012 - ETA: 5s - loss: 0.011 - ETA: 5s - loss: 0.012 - ETA: 4s - loss: 0.012 - ETA: 4s - loss: 0.012 - ETA: 4s - loss: 0.011 - ETA: 4s - loss: 0.011 - ETA: 4s - loss: 0.012 - ETA: 4s - loss: 0.012 - ETA: 4s - loss: 0.013 - ETA: 4s - loss: 0.013 - ETA: 3s - loss: 0.012 - ETA: 3s - loss: 0.013 - ETA: 3s - loss: 0.013 - ETA: 3s - loss: 0.013 - ETA: 3s - loss: 0.013 - ETA: 2s - loss: 0.013 - ETA: 2s - loss: 0.013 - ETA: 2s - loss: 0.013 - ETA: 2s - loss: 0.013 - ETA: 2s - loss: 0.013 - ETA: 1s - loss: 0.013 - ETA: 1s - loss: 0.013 - ETA: 1s - loss: 0.013 - ETA: 1s - loss: 0.013 - ETA: 1s - loss: 0.013 - ETA: 1s - loss: 0.013 - ETA: 0s - loss: 0.013 - ETA: 0s - loss: 0.013 - ETA: 0s - loss: 0.013 - ETA: 0s - loss: 0.014 - ETA: 0s - loss: 0.013 - 7s 361us/step - loss: 0.0137\n",
      "\n",
      "Epoch 00021: loss did not improve from 0.01214\n",
      "Epoch 22/50\n",
      "19910/19910 [==============================] - ETA: 7s - loss: 0.009 - ETA: 7s - loss: 0.010 - ETA: 6s - loss: 0.009 - ETA: 6s - loss: 0.010 - ETA: 6s - loss: 0.011 - ETA: 6s - loss: 0.010 - ETA: 5s - loss: 0.010 - ETA: 5s - loss: 0.010 - ETA: 5s - loss: 0.010 - ETA: 5s - loss: 0.010 - ETA: 5s - loss: 0.010 - ETA: 4s - loss: 0.009 - ETA: 4s - loss: 0.010 - ETA: 4s - loss: 0.010 - ETA: 4s - loss: 0.010 - ETA: 4s - loss: 0.010 - ETA: 3s - loss: 0.010 - ETA: 3s - loss: 0.010 - ETA: 3s - loss: 0.010 - ETA: 3s - loss: 0.010 - ETA: 3s - loss: 0.010 - ETA: 3s - loss: 0.010 - ETA: 2s - loss: 0.010 - ETA: 2s - loss: 0.010 - ETA: 2s - loss: 0.010 - ETA: 2s - loss: 0.010 - ETA: 2s - loss: 0.010 - ETA: 1s - loss: 0.010 - ETA: 1s - loss: 0.010 - ETA: 1s - loss: 0.010 - ETA: 1s - loss: 0.009 - ETA: 1s - loss: 0.009 - ETA: 1s - loss: 0.009 - ETA: 0s - loss: 0.009 - ETA: 0s - loss: 0.009 - ETA: 0s - loss: 0.009 - ETA: 0s - loss: 0.009 - ETA: 0s - loss: 0.009 - 7s 344us/step - loss: 0.0099\n",
      "\n",
      "Epoch 00022: loss improved from 0.01214 to 0.00989, saving model to models\\weights-improvement-22-bigger.hdf5\n",
      "Epoch 23/50\n",
      "19910/19910 [==============================] - ETA: 6s - loss: 0.004 - ETA: 6s - loss: 0.007 - ETA: 6s - loss: 0.006 - ETA: 5s - loss: 0.006 - ETA: 5s - loss: 0.007 - ETA: 5s - loss: 0.007 - ETA: 5s - loss: 0.006 - ETA: 5s - loss: 0.006 - ETA: 5s - loss: 0.006 - ETA: 4s - loss: 0.006 - ETA: 4s - loss: 0.005 - ETA: 4s - loss: 0.005 - ETA: 4s - loss: 0.006 - ETA: 4s - loss: 0.005 - ETA: 4s - loss: 0.006 - ETA: 3s - loss: 0.006 - ETA: 3s - loss: 0.006 - ETA: 3s - loss: 0.006 - ETA: 3s - loss: 0.006 - ETA: 3s - loss: 0.006 - ETA: 3s - loss: 0.006 - ETA: 2s - loss: 0.006 - ETA: 2s - loss: 0.006 - ETA: 2s - loss: 0.006 - ETA: 2s - loss: 0.006 - ETA: 2s - loss: 0.006 - ETA: 2s - loss: 0.006 - ETA: 1s - loss: 0.006 - ETA: 1s - loss: 0.006 - ETA: 1s - loss: 0.006 - ETA: 1s - loss: 0.006 - ETA: 1s - loss: 0.006 - ETA: 1s - loss: 0.006 - ETA: 0s - loss: 0.006 - ETA: 0s - loss: 0.007 - ETA: 0s - loss: 0.007 - ETA: 0s - loss: 0.007 - ETA: 0s - loss: 0.007 - 7s 338us/step - loss: 0.0071\n",
      "\n",
      "Epoch 00023: loss improved from 0.00989 to 0.00713, saving model to models\\weights-improvement-23-bigger.hdf5\n",
      "Epoch 24/50\n",
      "19910/19910 [==============================] - ETA: 6s - loss: 0.004 - ETA: 6s - loss: 0.004 - ETA: 6s - loss: 0.004 - ETA: 5s - loss: 0.003 - ETA: 5s - loss: 0.003 - ETA: 5s - loss: 0.005 - ETA: 5s - loss: 0.005 - ETA: 5s - loss: 0.005 - ETA: 5s - loss: 0.005 - ETA: 4s - loss: 0.005 - ETA: 4s - loss: 0.005 - ETA: 4s - loss: 0.005 - ETA: 4s - loss: 0.005 - ETA: 4s - loss: 0.005 - ETA: 4s - loss: 0.005 - ETA: 3s - loss: 0.005 - ETA: 3s - loss: 0.006 - ETA: 3s - loss: 0.006 - ETA: 3s - loss: 0.006 - ETA: 3s - loss: 0.006 - ETA: 3s - loss: 0.006 - ETA: 2s - loss: 0.007 - ETA: 2s - loss: 0.007 - ETA: 2s - loss: 0.007 - ETA: 2s - loss: 0.007 - ETA: 2s - loss: 0.007 - ETA: 2s - loss: 0.008 - ETA: 1s - loss: 0.007 - ETA: 1s - loss: 0.007 - ETA: 1s - loss: 0.008 - ETA: 1s - loss: 0.007 - ETA: 1s - loss: 0.007 - ETA: 1s - loss: 0.008 - ETA: 0s - loss: 0.008 - ETA: 0s - loss: 0.008 - ETA: 0s - loss: 0.008 - ETA: 0s - loss: 0.008 - ETA: 0s - loss: 0.008 - 7s 336us/step - loss: 0.0086\n",
      "\n",
      "Epoch 00024: loss did not improve from 0.00713\n",
      "Epoch 25/50\n",
      "19910/19910 [==============================] - ETA: 6s - loss: 0.011 - ETA: 6s - loss: 0.009 - ETA: 6s - loss: 0.008 - ETA: 5s - loss: 0.010 - ETA: 5s - loss: 0.009 - ETA: 5s - loss: 0.009 - ETA: 5s - loss: 0.009 - ETA: 5s - loss: 0.009 - ETA: 5s - loss: 0.010 - ETA: 4s - loss: 0.010 - ETA: 4s - loss: 0.009 - ETA: 4s - loss: 0.009 - ETA: 4s - loss: 0.009 - ETA: 4s - loss: 0.009 - ETA: 4s - loss: 0.010 - ETA: 3s - loss: 0.010 - ETA: 3s - loss: 0.010 - ETA: 3s - loss: 0.010 - ETA: 3s - loss: 0.010 - ETA: 3s - loss: 0.010 - ETA: 3s - loss: 0.010 - ETA: 2s - loss: 0.009 - ETA: 2s - loss: 0.010 - ETA: 2s - loss: 0.010 - ETA: 2s - loss: 0.010 - ETA: 2s - loss: 0.010 - ETA: 2s - loss: 0.010 - ETA: 1s - loss: 0.010 - ETA: 1s - loss: 0.010 - ETA: 1s - loss: 0.010 - ETA: 1s - loss: 0.010 - ETA: 1s - loss: 0.010 - ETA: 1s - loss: 0.010 - ETA: 0s - loss: 0.010 - ETA: 0s - loss: 0.010 - ETA: 0s - loss: 0.010 - ETA: 0s - loss: 0.010 - ETA: 0s - loss: 0.010 - 7s 336us/step - loss: 0.0104\n",
      "\n",
      "Epoch 00025: loss did not improve from 0.00713\n",
      "Epoch 26/50\n",
      "19910/19910 [==============================] - ETA: 6s - loss: 0.003 - ETA: 6s - loss: 0.004 - ETA: 6s - loss: 0.006 - ETA: 5s - loss: 0.005 - ETA: 5s - loss: 0.006 - ETA: 5s - loss: 0.007 - ETA: 5s - loss: 0.007 - ETA: 5s - loss: 0.007 - ETA: 5s - loss: 0.007 - ETA: 4s - loss: 0.007 - ETA: 4s - loss: 0.007 - ETA: 4s - loss: 0.007 - ETA: 4s - loss: 0.007 - ETA: 4s - loss: 0.007 - ETA: 4s - loss: 0.008 - ETA: 3s - loss: 0.008 - ETA: 3s - loss: 0.008 - ETA: 3s - loss: 0.008 - ETA: 3s - loss: 0.008 - ETA: 3s - loss: 0.008 - ETA: 3s - loss: 0.008 - ETA: 2s - loss: 0.008 - ETA: 2s - loss: 0.008 - ETA: 2s - loss: 0.008 - ETA: 2s - loss: 0.008 - ETA: 2s - loss: 0.008 - ETA: 2s - loss: 0.008 - ETA: 1s - loss: 0.008 - ETA: 1s - loss: 0.008 - ETA: 1s - loss: 0.008 - ETA: 1s - loss: 0.008 - ETA: 1s - loss: 0.008 - ETA: 1s - loss: 0.008 - ETA: 0s - loss: 0.008 - ETA: 0s - loss: 0.009 - ETA: 0s - loss: 0.009 - ETA: 0s - loss: 0.009 - ETA: 0s - loss: 0.009 - 7s 349us/step - loss: 0.0092\n",
      "\n",
      "Epoch 00026: loss did not improve from 0.00713\n",
      "Epoch 27/50\n",
      "19910/19910 [==============================] - ETA: 7s - loss: 0.002 - ETA: 6s - loss: 0.006 - ETA: 6s - loss: 0.009 - ETA: 6s - loss: 0.010 - ETA: 5s - loss: 0.009 - ETA: 5s - loss: 0.008 - ETA: 5s - loss: 0.008 - ETA: 5s - loss: 0.008 - ETA: 5s - loss: 0.008 - ETA: 4s - loss: 0.008 - ETA: 4s - loss: 0.008 - ETA: 4s - loss: 0.008 - ETA: 4s - loss: 0.008 - ETA: 4s - loss: 0.008 - ETA: 4s - loss: 0.008 - ETA: 3s - loss: 0.008 - ETA: 3s - loss: 0.008 - ETA: 3s - loss: 0.007 - ETA: 3s - loss: 0.007 - ETA: 3s - loss: 0.007 - ETA: 3s - loss: 0.007 - ETA: 2s - loss: 0.007 - ETA: 2s - loss: 0.008 - ETA: 2s - loss: 0.008 - ETA: 2s - loss: 0.008 - ETA: 2s - loss: 0.008 - ETA: 2s - loss: 0.008 - ETA: 1s - loss: 0.008 - ETA: 1s - loss: 0.008 - ETA: 1s - loss: 0.008 - ETA: 1s - loss: 0.008 - ETA: 1s - loss: 0.008 - ETA: 1s - loss: 0.008 - ETA: 0s - loss: 0.008 - ETA: 0s - loss: 0.008 - ETA: 0s - loss: 0.008 - ETA: 0s - loss: 0.008 - ETA: 0s - loss: 0.008 - 7s 334us/step - loss: 0.0087\n",
      "\n",
      "Epoch 00027: loss did not improve from 0.00713\n",
      "Epoch 28/50\n",
      "19910/19910 [==============================] - ETA: 6s - loss: 0.009 - ETA: 6s - loss: 0.009 - ETA: 6s - loss: 0.007 - ETA: 6s - loss: 0.007 - ETA: 6s - loss: 0.007 - ETA: 6s - loss: 0.006 - ETA: 5s - loss: 0.006 - ETA: 5s - loss: 0.007 - ETA: 5s - loss: 0.007 - ETA: 5s - loss: 0.007 - ETA: 5s - loss: 0.007 - ETA: 4s - loss: 0.007 - ETA: 4s - loss: 0.007 - ETA: 4s - loss: 0.007 - ETA: 4s - loss: 0.007 - ETA: 4s - loss: 0.007 - ETA: 3s - loss: 0.007 - ETA: 3s - loss: 0.007 - ETA: 3s - loss: 0.007 - ETA: 3s - loss: 0.007 - ETA: 3s - loss: 0.007 - ETA: 3s - loss: 0.007 - ETA: 2s - loss: 0.007 - ETA: 2s - loss: 0.007 - ETA: 2s - loss: 0.007 - ETA: 2s - loss: 0.007 - ETA: 2s - loss: 0.007 - ETA: 1s - loss: 0.008 - ETA: 1s - loss: 0.008 - ETA: 1s - loss: 0.008 - ETA: 1s - loss: 0.008 - ETA: 1s - loss: 0.008 - ETA: 1s - loss: 0.008 - ETA: 0s - loss: 0.008 - ETA: 0s - loss: 0.008 - ETA: 0s - loss: 0.008 - ETA: 0s - loss: 0.008 - ETA: 0s - loss: 0.008 - 7s 342us/step - loss: 0.0086\n",
      "\n",
      "Epoch 00028: loss did not improve from 0.00713\n",
      "Epoch 29/50\n"
     ]
    },
    {
     "name": "stdout",
     "output_type": "stream",
     "text": [
      "19910/19910 [==============================] - ETA: 6s - loss: 0.006 - ETA: 6s - loss: 0.008 - ETA: 6s - loss: 0.006 - ETA: 5s - loss: 0.008 - ETA: 5s - loss: 0.008 - ETA: 5s - loss: 0.007 - ETA: 5s - loss: 0.007 - ETA: 5s - loss: 0.008 - ETA: 5s - loss: 0.008 - ETA: 4s - loss: 0.007 - ETA: 4s - loss: 0.007 - ETA: 4s - loss: 0.007 - ETA: 4s - loss: 0.007 - ETA: 4s - loss: 0.007 - ETA: 4s - loss: 0.007 - ETA: 3s - loss: 0.007 - ETA: 3s - loss: 0.006 - ETA: 3s - loss: 0.006 - ETA: 3s - loss: 0.006 - ETA: 3s - loss: 0.007 - ETA: 3s - loss: 0.007 - ETA: 2s - loss: 0.007 - ETA: 2s - loss: 0.006 - ETA: 2s - loss: 0.006 - ETA: 2s - loss: 0.007 - ETA: 2s - loss: 0.007 - ETA: 2s - loss: 0.007 - ETA: 1s - loss: 0.007 - ETA: 1s - loss: 0.007 - ETA: 1s - loss: 0.007 - ETA: 1s - loss: 0.007 - ETA: 1s - loss: 0.007 - ETA: 1s - loss: 0.007 - ETA: 0s - loss: 0.007 - ETA: 0s - loss: 0.007 - ETA: 0s - loss: 0.007 - ETA: 0s - loss: 0.007 - ETA: 0s - loss: 0.007 - 7s 334us/step - loss: 0.0075\n",
      "\n",
      "Epoch 00029: loss did not improve from 0.00713\n",
      "Epoch 30/50\n",
      "19910/19910 [==============================] - ETA: 6s - loss: 0.004 - ETA: 6s - loss: 0.004 - ETA: 6s - loss: 0.004 - ETA: 5s - loss: 0.004 - ETA: 5s - loss: 0.004 - ETA: 5s - loss: 0.004 - ETA: 5s - loss: 0.004 - ETA: 5s - loss: 0.004 - ETA: 5s - loss: 0.004 - ETA: 4s - loss: 0.004 - ETA: 4s - loss: 0.004 - ETA: 4s - loss: 0.004 - ETA: 4s - loss: 0.003 - ETA: 4s - loss: 0.003 - ETA: 4s - loss: 0.003 - ETA: 3s - loss: 0.003 - ETA: 3s - loss: 0.003 - ETA: 3s - loss: 0.003 - ETA: 3s - loss: 0.003 - ETA: 3s - loss: 0.003 - ETA: 3s - loss: 0.003 - ETA: 2s - loss: 0.004 - ETA: 2s - loss: 0.004 - ETA: 2s - loss: 0.004 - ETA: 2s - loss: 0.004 - ETA: 2s - loss: 0.004 - ETA: 2s - loss: 0.004 - ETA: 1s - loss: 0.004 - ETA: 1s - loss: 0.004 - ETA: 1s - loss: 0.004 - ETA: 1s - loss: 0.004 - ETA: 1s - loss: 0.004 - ETA: 0s - loss: 0.004 - ETA: 0s - loss: 0.004 - ETA: 0s - loss: 0.004 - ETA: 0s - loss: 0.004 - ETA: 0s - loss: 0.004 - ETA: 0s - loss: 0.004 - 7s 332us/step - loss: 0.0048\n",
      "\n",
      "Epoch 00030: loss improved from 0.00713 to 0.00480, saving model to models\\weights-improvement-30-bigger.hdf5\n",
      "Epoch 31/50\n",
      "19910/19910 [==============================] - ETA: 6s - loss: 0.008 - ETA: 6s - loss: 0.006 - ETA: 6s - loss: 0.007 - ETA: 5s - loss: 0.006 - ETA: 5s - loss: 0.007 - ETA: 5s - loss: 0.009 - ETA: 5s - loss: 0.008 - ETA: 5s - loss: 0.008 - ETA: 5s - loss: 0.008 - ETA: 4s - loss: 0.007 - ETA: 4s - loss: 0.008 - ETA: 4s - loss: 0.008 - ETA: 4s - loss: 0.008 - ETA: 4s - loss: 0.008 - ETA: 4s - loss: 0.008 - ETA: 3s - loss: 0.009 - ETA: 3s - loss: 0.008 - ETA: 3s - loss: 0.008 - ETA: 3s - loss: 0.010 - ETA: 3s - loss: 0.010 - ETA: 3s - loss: 0.009 - ETA: 2s - loss: 0.009 - ETA: 2s - loss: 0.010 - ETA: 2s - loss: 0.010 - ETA: 2s - loss: 0.010 - ETA: 2s - loss: 0.010 - ETA: 2s - loss: 0.010 - ETA: 1s - loss: 0.010 - ETA: 1s - loss: 0.010 - ETA: 1s - loss: 0.010 - ETA: 1s - loss: 0.010 - ETA: 1s - loss: 0.010 - ETA: 0s - loss: 0.010 - ETA: 0s - loss: 0.010 - ETA: 0s - loss: 0.010 - ETA: 0s - loss: 0.010 - ETA: 0s - loss: 0.011 - ETA: 0s - loss: 0.011 - 7s 331us/step - loss: 0.0112\n",
      "\n",
      "Epoch 00031: loss did not improve from 0.00480\n",
      "Epoch 32/50\n",
      "19910/19910 [==============================] - ETA: 6s - loss: 0.006 - ETA: 6s - loss: 0.005 - ETA: 6s - loss: 0.006 - ETA: 5s - loss: 0.008 - ETA: 5s - loss: 0.007 - ETA: 5s - loss: 0.008 - ETA: 5s - loss: 0.008 - ETA: 5s - loss: 0.008 - ETA: 5s - loss: 0.008 - ETA: 4s - loss: 0.008 - ETA: 4s - loss: 0.008 - ETA: 4s - loss: 0.008 - ETA: 4s - loss: 0.008 - ETA: 4s - loss: 0.008 - ETA: 4s - loss: 0.008 - ETA: 3s - loss: 0.008 - ETA: 3s - loss: 0.008 - ETA: 3s - loss: 0.008 - ETA: 3s - loss: 0.008 - ETA: 3s - loss: 0.008 - ETA: 3s - loss: 0.008 - ETA: 2s - loss: 0.007 - ETA: 2s - loss: 0.007 - ETA: 2s - loss: 0.008 - ETA: 2s - loss: 0.008 - ETA: 2s - loss: 0.007 - ETA: 2s - loss: 0.007 - ETA: 1s - loss: 0.008 - ETA: 1s - loss: 0.008 - ETA: 1s - loss: 0.008 - ETA: 1s - loss: 0.008 - ETA: 1s - loss: 0.008 - ETA: 0s - loss: 0.008 - ETA: 0s - loss: 0.008 - ETA: 0s - loss: 0.008 - ETA: 0s - loss: 0.007 - ETA: 0s - loss: 0.007 - ETA: 0s - loss: 0.007 - 7s 331us/step - loss: 0.0077\n",
      "\n",
      "Epoch 00032: loss did not improve from 0.00480\n",
      "Epoch 33/50\n",
      "19910/19910 [==============================] - ETA: 6s - loss: 0.005 - ETA: 6s - loss: 0.005 - ETA: 6s - loss: 0.006 - ETA: 5s - loss: 0.006 - ETA: 5s - loss: 0.005 - ETA: 5s - loss: 0.006 - ETA: 5s - loss: 0.006 - ETA: 5s - loss: 0.005 - ETA: 5s - loss: 0.006 - ETA: 4s - loss: 0.006 - ETA: 4s - loss: 0.006 - ETA: 4s - loss: 0.006 - ETA: 4s - loss: 0.006 - ETA: 4s - loss: 0.006 - ETA: 4s - loss: 0.006 - ETA: 3s - loss: 0.006 - ETA: 3s - loss: 0.006 - ETA: 3s - loss: 0.006 - ETA: 3s - loss: 0.006 - ETA: 3s - loss: 0.006 - ETA: 3s - loss: 0.006 - ETA: 2s - loss: 0.005 - ETA: 2s - loss: 0.005 - ETA: 2s - loss: 0.005 - ETA: 2s - loss: 0.005 - ETA: 2s - loss: 0.005 - ETA: 2s - loss: 0.005 - ETA: 1s - loss: 0.005 - ETA: 1s - loss: 0.005 - ETA: 1s - loss: 0.005 - ETA: 1s - loss: 0.005 - ETA: 1s - loss: 0.005 - ETA: 0s - loss: 0.005 - ETA: 0s - loss: 0.005 - ETA: 0s - loss: 0.005 - ETA: 0s - loss: 0.005 - ETA: 0s - loss: 0.005 - ETA: 0s - loss: 0.005 - 7s 331us/step - loss: 0.0054\n",
      "\n",
      "Epoch 00033: loss did not improve from 0.00480\n",
      "Epoch 34/50\n",
      "19910/19910 [==============================] - ETA: 6s - loss: 0.004 - ETA: 6s - loss: 0.005 - ETA: 6s - loss: 0.004 - ETA: 5s - loss: 0.005 - ETA: 5s - loss: 0.004 - ETA: 5s - loss: 0.004 - ETA: 5s - loss: 0.004 - ETA: 5s - loss: 0.004 - ETA: 5s - loss: 0.004 - ETA: 5s - loss: 0.004 - ETA: 4s - loss: 0.004 - ETA: 4s - loss: 0.005 - ETA: 4s - loss: 0.005 - ETA: 4s - loss: 0.005 - ETA: 4s - loss: 0.005 - ETA: 4s - loss: 0.005 - ETA: 3s - loss: 0.005 - ETA: 3s - loss: 0.005 - ETA: 3s - loss: 0.005 - ETA: 3s - loss: 0.005 - ETA: 3s - loss: 0.005 - ETA: 3s - loss: 0.005 - ETA: 2s - loss: 0.005 - ETA: 2s - loss: 0.005 - ETA: 2s - loss: 0.005 - ETA: 2s - loss: 0.005 - ETA: 2s - loss: 0.005 - ETA: 1s - loss: 0.005 - ETA: 1s - loss: 0.005 - ETA: 1s - loss: 0.005 - ETA: 1s - loss: 0.005 - ETA: 1s - loss: 0.005 - ETA: 1s - loss: 0.005 - ETA: 0s - loss: 0.006 - ETA: 0s - loss: 0.006 - ETA: 0s - loss: 0.006 - ETA: 0s - loss: 0.006 - ETA: 0s - loss: 0.006 - 7s 348us/step - loss: 0.0062\n",
      "\n",
      "Epoch 00034: loss did not improve from 0.00480\n",
      "Epoch 35/50\n",
      "19910/19910 [==============================] - ETA: 6s - loss: 0.002 - ETA: 6s - loss: 0.005 - ETA: 6s - loss: 0.006 - ETA: 5s - loss: 0.007 - ETA: 5s - loss: 0.006 - ETA: 5s - loss: 0.006 - ETA: 5s - loss: 0.006 - ETA: 5s - loss: 0.006 - ETA: 5s - loss: 0.006 - ETA: 4s - loss: 0.007 - ETA: 4s - loss: 0.007 - ETA: 4s - loss: 0.007 - ETA: 4s - loss: 0.007 - ETA: 4s - loss: 0.007 - ETA: 4s - loss: 0.008 - ETA: 3s - loss: 0.007 - ETA: 3s - loss: 0.007 - ETA: 3s - loss: 0.007 - ETA: 3s - loss: 0.008 - ETA: 3s - loss: 0.008 - ETA: 3s - loss: 0.008 - ETA: 2s - loss: 0.008 - ETA: 2s - loss: 0.008 - ETA: 2s - loss: 0.008 - ETA: 2s - loss: 0.007 - ETA: 2s - loss: 0.007 - ETA: 2s - loss: 0.007 - ETA: 1s - loss: 0.007 - ETA: 1s - loss: 0.007 - ETA: 1s - loss: 0.007 - ETA: 1s - loss: 0.007 - ETA: 1s - loss: 0.007 - ETA: 1s - loss: 0.007 - ETA: 0s - loss: 0.007 - ETA: 0s - loss: 0.007 - ETA: 0s - loss: 0.007 - ETA: 0s - loss: 0.007 - ETA: 0s - loss: 0.007 - 7s 332us/step - loss: 0.0074\n",
      "\n",
      "Epoch 00035: loss did not improve from 0.00480\n",
      "Epoch 36/50\n",
      "19910/19910 [==============================] - ETA: 6s - loss: 0.003 - ETA: 6s - loss: 0.003 - ETA: 6s - loss: 0.004 - ETA: 5s - loss: 0.003 - ETA: 5s - loss: 0.004 - ETA: 5s - loss: 0.004 - ETA: 5s - loss: 0.004 - ETA: 5s - loss: 0.004 - ETA: 5s - loss: 0.004 - ETA: 4s - loss: 0.004 - ETA: 4s - loss: 0.005 - ETA: 4s - loss: 0.005 - ETA: 4s - loss: 0.005 - ETA: 4s - loss: 0.005 - ETA: 4s - loss: 0.005 - ETA: 3s - loss: 0.005 - ETA: 3s - loss: 0.005 - ETA: 3s - loss: 0.005 - ETA: 3s - loss: 0.005 - ETA: 3s - loss: 0.005 - ETA: 3s - loss: 0.005 - ETA: 2s - loss: 0.005 - ETA: 2s - loss: 0.005 - ETA: 2s - loss: 0.005 - ETA: 2s - loss: 0.005 - ETA: 2s - loss: 0.005 - ETA: 2s - loss: 0.005 - ETA: 1s - loss: 0.005 - ETA: 1s - loss: 0.005 - ETA: 1s - loss: 0.005 - ETA: 1s - loss: 0.005 - ETA: 1s - loss: 0.005 - ETA: 1s - loss: 0.006 - ETA: 0s - loss: 0.005 - ETA: 0s - loss: 0.006 - ETA: 0s - loss: 0.006 - ETA: 0s - loss: 0.006 - ETA: 0s - loss: 0.006 - 7s 332us/step - loss: 0.0061\n",
      "\n",
      "Epoch 00036: loss did not improve from 0.00480\n",
      "Epoch 37/50\n",
      "19910/19910 [==============================] - ETA: 6s - loss: 8.3998e-0 - ETA: 6s - loss: 0.0028    - ETA: 6s - loss: 0.006 - ETA: 6s - loss: 0.006 - ETA: 5s - loss: 0.006 - ETA: 5s - loss: 0.005 - ETA: 5s - loss: 0.006 - ETA: 5s - loss: 0.007 - ETA: 5s - loss: 0.006 - ETA: 5s - loss: 0.006 - ETA: 4s - loss: 0.006 - ETA: 4s - loss: 0.006 - ETA: 4s - loss: 0.006 - ETA: 4s - loss: 0.006 - ETA: 4s - loss: 0.006 - ETA: 4s - loss: 0.006 - ETA: 3s - loss: 0.006 - ETA: 3s - loss: 0.006 - ETA: 3s - loss: 0.006 - ETA: 3s - loss: 0.006 - ETA: 3s - loss: 0.006 - ETA: 2s - loss: 0.006 - ETA: 2s - loss: 0.006 - ETA: 2s - loss: 0.006 - ETA: 2s - loss: 0.006 - ETA: 2s - loss: 0.005 - ETA: 2s - loss: 0.005 - ETA: 1s - loss: 0.005 - ETA: 1s - loss: 0.005 - ETA: 1s - loss: 0.005 - ETA: 1s - loss: 0.005 - ETA: 1s - loss: 0.005 - ETA: 1s - loss: 0.005 - ETA: 0s - loss: 0.005 - ETA: 0s - loss: 0.005 - ETA: 0s - loss: 0.005 - ETA: 0s - loss: 0.005 - ETA: 0s - loss: 0.005 - 7s 339us/step - loss: 0.0061\n",
      "\n",
      "Epoch 00037: loss did not improve from 0.00480\n",
      "Epoch 38/50\n",
      "19910/19910 [==============================] - ETA: 6s - loss: 0.003 - ETA: 6s - loss: 0.003 - ETA: 5s - loss: 0.004 - ETA: 5s - loss: 0.004 - ETA: 5s - loss: 0.004 - ETA: 5s - loss: 0.003 - ETA: 5s - loss: 0.006 - ETA: 5s - loss: 0.006 - ETA: 4s - loss: 0.006 - ETA: 4s - loss: 0.006 - ETA: 4s - loss: 0.005 - ETA: 4s - loss: 0.005 - ETA: 4s - loss: 0.005 - ETA: 4s - loss: 0.005 - ETA: 3s - loss: 0.006 - ETA: 3s - loss: 0.006 - ETA: 3s - loss: 0.005 - ETA: 3s - loss: 0.006 - ETA: 3s - loss: 0.005 - ETA: 3s - loss: 0.005 - ETA: 2s - loss: 0.006 - ETA: 2s - loss: 0.006 - ETA: 2s - loss: 0.006 - ETA: 2s - loss: 0.006 - ETA: 2s - loss: 0.006 - ETA: 2s - loss: 0.006 - ETA: 1s - loss: 0.006 - ETA: 1s - loss: 0.006 - ETA: 1s - loss: 0.006 - ETA: 1s - loss: 0.006 - ETA: 1s - loss: 0.006 - ETA: 1s - loss: 0.006 - ETA: 0s - loss: 0.006 - ETA: 0s - loss: 0.006 - ETA: 0s - loss: 0.006 - ETA: 0s - loss: 0.006 - ETA: 0s - loss: 0.006 - ETA: 0s - loss: 0.006 - 7s 328us/step - loss: 0.0063\n",
      "\n",
      "Epoch 00038: loss did not improve from 0.00480\n",
      "Epoch 39/50\n",
      "19910/19910 [==============================] - ETA: 6s - loss: 0.006 - ETA: 6s - loss: 0.005 - ETA: 6s - loss: 0.004 - ETA: 6s - loss: 0.005 - ETA: 6s - loss: 0.006 - ETA: 6s - loss: 0.006 - ETA: 6s - loss: 0.006 - ETA: 5s - loss: 0.006 - ETA: 5s - loss: 0.007 - ETA: 5s - loss: 0.007 - ETA: 5s - loss: 0.006 - ETA: 5s - loss: 0.007 - ETA: 4s - loss: 0.007 - ETA: 4s - loss: 0.007 - ETA: 4s - loss: 0.006 - ETA: 4s - loss: 0.006 - ETA: 4s - loss: 0.007 - ETA: 4s - loss: 0.007 - ETA: 4s - loss: 0.007 - ETA: 3s - loss: 0.007 - ETA: 3s - loss: 0.007 - ETA: 3s - loss: 0.007 - ETA: 3s - loss: 0.007 - ETA: 3s - loss: 0.007 - ETA: 2s - loss: 0.007 - ETA: 2s - loss: 0.007 - ETA: 2s - loss: 0.007 - ETA: 2s - loss: 0.007 - ETA: 2s - loss: 0.007 - ETA: 1s - loss: 0.007 - ETA: 1s - loss: 0.007 - ETA: 1s - loss: 0.007 - ETA: 1s - loss: 0.007 - ETA: 1s - loss: 0.007 - ETA: 0s - loss: 0.007 - ETA: 0s - loss: 0.007 - ETA: 0s - loss: 0.007 - ETA: 0s - loss: 0.006 - 8s 408us/step - loss: 0.0067\n",
      "\n",
      "Epoch 00039: loss did not improve from 0.00480\n",
      "Epoch 40/50\n",
      "19910/19910 [==============================] - ETA: 6s - loss: 0.002 - ETA: 6s - loss: 0.003 - ETA: 6s - loss: 0.005 - ETA: 7s - loss: 0.004 - ETA: 6s - loss: 0.004 - ETA: 6s - loss: 0.004 - ETA: 6s - loss: 0.004 - ETA: 6s - loss: 0.004 - ETA: 6s - loss: 0.003 - ETA: 6s - loss: 0.003 - ETA: 5s - loss: 0.004 - ETA: 5s - loss: 0.004 - ETA: 5s - loss: 0.004 - ETA: 5s - loss: 0.004 - ETA: 5s - loss: 0.005 - ETA: 5s - loss: 0.004 - ETA: 4s - loss: 0.004 - ETA: 4s - loss: 0.004 - ETA: 4s - loss: 0.004 - ETA: 4s - loss: 0.004 - ETA: 4s - loss: 0.004 - ETA: 3s - loss: 0.004 - ETA: 3s - loss: 0.004 - ETA: 3s - loss: 0.004 - ETA: 3s - loss: 0.004 - ETA: 2s - loss: 0.004 - ETA: 2s - loss: 0.004 - ETA: 2s - loss: 0.004 - ETA: 2s - loss: 0.004 - ETA: 1s - loss: 0.004 - ETA: 1s - loss: 0.004 - ETA: 1s - loss: 0.004 - ETA: 1s - loss: 0.004 - ETA: 1s - loss: 0.004 - ETA: 0s - loss: 0.004 - ETA: 0s - loss: 0.004 - ETA: 0s - loss: 0.004 - ETA: 0s - loss: 0.004 - 8s 421us/step - loss: 0.0043\n",
      "\n",
      "Epoch 00040: loss improved from 0.00480 to 0.00434, saving model to models\\weights-improvement-40-bigger.hdf5\n",
      "Epoch 41/50\n",
      "19910/19910 [==============================] - ETA: 7s - loss: 0.003 - ETA: 7s - loss: 0.004 - ETA: 6s - loss: 0.005 - ETA: 6s - loss: 0.006 - ETA: 6s - loss: 0.006 - ETA: 6s - loss: 0.005 - ETA: 6s - loss: 0.005 - ETA: 6s - loss: 0.004 - ETA: 5s - loss: 0.005 - ETA: 5s - loss: 0.005 - ETA: 5s - loss: 0.005 - ETA: 5s - loss: 0.005 - ETA: 5s - loss: 0.004 - ETA: 4s - loss: 0.004 - ETA: 4s - loss: 0.004 - ETA: 4s - loss: 0.004 - ETA: 4s - loss: 0.004 - ETA: 4s - loss: 0.004 - ETA: 3s - loss: 0.004 - ETA: 3s - loss: 0.004 - ETA: 3s - loss: 0.004 - ETA: 3s - loss: 0.004 - ETA: 3s - loss: 0.004 - ETA: 2s - loss: 0.004 - ETA: 2s - loss: 0.004 - ETA: 2s - loss: 0.004 - ETA: 2s - loss: 0.003 - ETA: 2s - loss: 0.003 - ETA: 1s - loss: 0.003 - ETA: 1s - loss: 0.003 - ETA: 1s - loss: 0.003 - ETA: 1s - loss: 0.003 - ETA: 1s - loss: 0.003 - ETA: 0s - loss: 0.003 - ETA: 0s - loss: 0.003 - ETA: 0s - loss: 0.003 - ETA: 0s - loss: 0.003 - ETA: 0s - loss: 0.003 - 8s 397us/step - loss: 0.0037\n",
      "\n",
      "Epoch 00041: loss improved from 0.00434 to 0.00370, saving model to models\\weights-improvement-41-bigger.hdf5\n",
      "Epoch 42/50\n",
      "19910/19910 [==============================] - ETA: 8s - loss: 0.002 - ETA: 7s - loss: 0.002 - ETA: 7s - loss: 0.002 - ETA: 7s - loss: 0.003 - ETA: 6s - loss: 0.003 - ETA: 6s - loss: 0.003 - ETA: 6s - loss: 0.004 - ETA: 6s - loss: 0.004 - ETA: 6s - loss: 0.004 - ETA: 6s - loss: 0.004 - ETA: 5s - loss: 0.004 - ETA: 5s - loss: 0.005 - ETA: 5s - loss: 0.004 - ETA: 5s - loss: 0.004 - ETA: 4s - loss: 0.004 - ETA: 4s - loss: 0.004 - ETA: 4s - loss: 0.004 - ETA: 4s - loss: 0.004 - ETA: 4s - loss: 0.004 - ETA: 3s - loss: 0.004 - ETA: 3s - loss: 0.004 - ETA: 3s - loss: 0.004 - ETA: 3s - loss: 0.004 - ETA: 3s - loss: 0.004 - ETA: 2s - loss: 0.004 - ETA: 2s - loss: 0.004 - ETA: 2s - loss: 0.004 - ETA: 2s - loss: 0.004 - ETA: 2s - loss: 0.004 - ETA: 1s - loss: 0.004 - ETA: 1s - loss: 0.004 - ETA: 1s - loss: 0.004 - ETA: 1s - loss: 0.004 - ETA: 1s - loss: 0.004 - ETA: 0s - loss: 0.004 - ETA: 0s - loss: 0.004 - ETA: 0s - loss: 0.004 - ETA: 0s - loss: 0.004 - 8s 405us/step - loss: 0.0047\n",
      "\n",
      "Epoch 00042: loss did not improve from 0.00370\n",
      "Epoch 43/50\n"
     ]
    },
    {
     "name": "stdout",
     "output_type": "stream",
     "text": [
      "19910/19910 [==============================] - ETA: 7s - loss: 0.006 - ETA: 7s - loss: 0.006 - ETA: 7s - loss: 0.004 - ETA: 7s - loss: 0.004 - ETA: 6s - loss: 0.004 - ETA: 6s - loss: 0.004 - ETA: 6s - loss: 0.004 - ETA: 6s - loss: 0.005 - ETA: 5s - loss: 0.005 - ETA: 5s - loss: 0.005 - ETA: 5s - loss: 0.004 - ETA: 5s - loss: 0.004 - ETA: 5s - loss: 0.004 - ETA: 4s - loss: 0.005 - ETA: 4s - loss: 0.005 - ETA: 4s - loss: 0.004 - ETA: 4s - loss: 0.005 - ETA: 4s - loss: 0.005 - ETA: 3s - loss: 0.005 - ETA: 3s - loss: 0.005 - ETA: 3s - loss: 0.005 - ETA: 3s - loss: 0.004 - ETA: 3s - loss: 0.004 - ETA: 2s - loss: 0.005 - ETA: 2s - loss: 0.004 - ETA: 2s - loss: 0.004 - ETA: 2s - loss: 0.004 - ETA: 2s - loss: 0.004 - ETA: 1s - loss: 0.004 - ETA: 1s - loss: 0.004 - ETA: 1s - loss: 0.004 - ETA: 1s - loss: 0.004 - ETA: 1s - loss: 0.004 - ETA: 0s - loss: 0.004 - ETA: 0s - loss: 0.004 - ETA: 0s - loss: 0.004 - ETA: 0s - loss: 0.004 - ETA: 0s - loss: 0.004 - 8s 392us/step - loss: 0.0045\n",
      "\n",
      "Epoch 00043: loss did not improve from 0.00370\n",
      "Epoch 44/50\n",
      "19910/19910 [==============================] - ETA: 7s - loss: 0.003 - ETA: 7s - loss: 0.004 - ETA: 7s - loss: 0.003 - ETA: 6s - loss: 0.002 - ETA: 6s - loss: 0.002 - ETA: 6s - loss: 0.002 - ETA: 6s - loss: 0.002 - ETA: 6s - loss: 0.002 - ETA: 5s - loss: 0.002 - ETA: 5s - loss: 0.002 - ETA: 5s - loss: 0.003 - ETA: 5s - loss: 0.003 - ETA: 5s - loss: 0.002 - ETA: 4s - loss: 0.002 - ETA: 4s - loss: 0.003 - ETA: 4s - loss: 0.002 - ETA: 4s - loss: 0.002 - ETA: 4s - loss: 0.002 - ETA: 3s - loss: 0.002 - ETA: 3s - loss: 0.002 - ETA: 3s - loss: 0.003 - ETA: 3s - loss: 0.003 - ETA: 3s - loss: 0.003 - ETA: 2s - loss: 0.003 - ETA: 2s - loss: 0.003 - ETA: 2s - loss: 0.003 - ETA: 2s - loss: 0.003 - ETA: 2s - loss: 0.003 - ETA: 1s - loss: 0.003 - ETA: 1s - loss: 0.003 - ETA: 1s - loss: 0.003 - ETA: 1s - loss: 0.003 - ETA: 1s - loss: 0.003 - ETA: 0s - loss: 0.003 - ETA: 0s - loss: 0.004 - ETA: 0s - loss: 0.004 - ETA: 0s - loss: 0.004 - ETA: 0s - loss: 0.004 - 8s 392us/step - loss: 0.0046\n",
      "\n",
      "Epoch 00044: loss did not improve from 0.00370\n",
      "Epoch 45/50\n",
      "19910/19910 [==============================] - ETA: 7s - loss: 0.001 - ETA: 7s - loss: 0.002 - ETA: 7s - loss: 0.003 - ETA: 7s - loss: 0.008 - ETA: 6s - loss: 0.008 - ETA: 6s - loss: 0.008 - ETA: 6s - loss: 0.007 - ETA: 6s - loss: 0.007 - ETA: 5s - loss: 0.007 - ETA: 5s - loss: 0.007 - ETA: 5s - loss: 0.007 - ETA: 5s - loss: 0.008 - ETA: 5s - loss: 0.007 - ETA: 4s - loss: 0.007 - ETA: 4s - loss: 0.007 - ETA: 4s - loss: 0.007 - ETA: 4s - loss: 0.007 - ETA: 4s - loss: 0.008 - ETA: 3s - loss: 0.008 - ETA: 3s - loss: 0.008 - ETA: 3s - loss: 0.007 - ETA: 3s - loss: 0.007 - ETA: 3s - loss: 0.007 - ETA: 2s - loss: 0.007 - ETA: 2s - loss: 0.007 - ETA: 2s - loss: 0.007 - ETA: 2s - loss: 0.007 - ETA: 2s - loss: 0.007 - ETA: 1s - loss: 0.007 - ETA: 1s - loss: 0.007 - ETA: 1s - loss: 0.007 - ETA: 1s - loss: 0.007 - ETA: 1s - loss: 0.007 - ETA: 0s - loss: 0.007 - ETA: 0s - loss: 0.007 - ETA: 0s - loss: 0.007 - ETA: 0s - loss: 0.007 - ETA: 0s - loss: 0.007 - 8s 389us/step - loss: 0.0076\n",
      "\n",
      "Epoch 00045: loss did not improve from 0.00370\n",
      "Epoch 46/50\n",
      "19910/19910 [==============================] - ETA: 7s - loss: 0.001 - ETA: 7s - loss: 0.001 - ETA: 7s - loss: 0.001 - ETA: 6s - loss: 0.001 - ETA: 6s - loss: 0.003 - ETA: 6s - loss: 0.003 - ETA: 6s - loss: 0.003 - ETA: 6s - loss: 0.004 - ETA: 5s - loss: 0.004 - ETA: 5s - loss: 0.004 - ETA: 5s - loss: 0.004 - ETA: 5s - loss: 0.004 - ETA: 5s - loss: 0.004 - ETA: 4s - loss: 0.004 - ETA: 4s - loss: 0.004 - ETA: 4s - loss: 0.004 - ETA: 4s - loss: 0.004 - ETA: 4s - loss: 0.004 - ETA: 3s - loss: 0.004 - ETA: 3s - loss: 0.004 - ETA: 3s - loss: 0.004 - ETA: 3s - loss: 0.004 - ETA: 3s - loss: 0.004 - ETA: 2s - loss: 0.004 - ETA: 2s - loss: 0.005 - ETA: 2s - loss: 0.005 - ETA: 2s - loss: 0.005 - ETA: 2s - loss: 0.004 - ETA: 1s - loss: 0.004 - ETA: 1s - loss: 0.005 - ETA: 1s - loss: 0.005 - ETA: 1s - loss: 0.005 - ETA: 1s - loss: 0.005 - ETA: 0s - loss: 0.005 - ETA: 0s - loss: 0.005 - ETA: 0s - loss: 0.005 - ETA: 0s - loss: 0.005 - ETA: 0s - loss: 0.005 - 8s 386us/step - loss: 0.0056\n",
      "\n",
      "Epoch 00046: loss did not improve from 0.00370\n",
      "Epoch 47/50\n",
      "19910/19910 [==============================] - ETA: 7s - loss: 0.003 - ETA: 7s - loss: 0.003 - ETA: 7s - loss: 0.002 - ETA: 6s - loss: 0.002 - ETA: 6s - loss: 0.002 - ETA: 6s - loss: 0.003 - ETA: 6s - loss: 0.003 - ETA: 6s - loss: 0.004 - ETA: 5s - loss: 0.004 - ETA: 5s - loss: 0.004 - ETA: 5s - loss: 0.003 - ETA: 5s - loss: 0.003 - ETA: 5s - loss: 0.004 - ETA: 4s - loss: 0.004 - ETA: 4s - loss: 0.003 - ETA: 4s - loss: 0.003 - ETA: 4s - loss: 0.003 - ETA: 4s - loss: 0.003 - ETA: 3s - loss: 0.003 - ETA: 3s - loss: 0.003 - ETA: 3s - loss: 0.003 - ETA: 3s - loss: 0.003 - ETA: 3s - loss: 0.003 - ETA: 2s - loss: 0.003 - ETA: 2s - loss: 0.003 - ETA: 2s - loss: 0.003 - ETA: 2s - loss: 0.003 - ETA: 2s - loss: 0.003 - ETA: 1s - loss: 0.003 - ETA: 1s - loss: 0.003 - ETA: 1s - loss: 0.003 - ETA: 1s - loss: 0.003 - ETA: 1s - loss: 0.003 - ETA: 0s - loss: 0.003 - ETA: 0s - loss: 0.003 - ETA: 0s - loss: 0.003 - ETA: 0s - loss: 0.003 - ETA: 0s - loss: 0.003 - 8s 391us/step - loss: 0.0037\n",
      "\n",
      "Epoch 00047: loss did not improve from 0.00370\n",
      "Epoch 48/50\n",
      "19910/19910 [==============================] - ETA: 7s - loss: 0.001 - ETA: 7s - loss: 0.001 - ETA: 7s - loss: 0.003 - ETA: 7s - loss: 0.005 - ETA: 7s - loss: 0.005 - ETA: 6s - loss: 0.005 - ETA: 6s - loss: 0.004 - ETA: 6s - loss: 0.005 - ETA: 6s - loss: 0.005 - ETA: 5s - loss: 0.004 - ETA: 5s - loss: 0.004 - ETA: 5s - loss: 0.004 - ETA: 5s - loss: 0.004 - ETA: 5s - loss: 0.004 - ETA: 4s - loss: 0.004 - ETA: 4s - loss: 0.004 - ETA: 4s - loss: 0.004 - ETA: 4s - loss: 0.004 - ETA: 4s - loss: 0.004 - ETA: 3s - loss: 0.004 - ETA: 3s - loss: 0.004 - ETA: 3s - loss: 0.004 - ETA: 3s - loss: 0.004 - ETA: 2s - loss: 0.004 - ETA: 2s - loss: 0.004 - ETA: 2s - loss: 0.004 - ETA: 2s - loss: 0.004 - ETA: 2s - loss: 0.004 - ETA: 1s - loss: 0.004 - ETA: 1s - loss: 0.004 - ETA: 1s - loss: 0.004 - ETA: 1s - loss: 0.004 - ETA: 1s - loss: 0.004 - ETA: 0s - loss: 0.004 - ETA: 0s - loss: 0.004 - ETA: 0s - loss: 0.004 - ETA: 0s - loss: 0.004 - ETA: 0s - loss: 0.004 - 8s 391us/step - loss: 0.0044\n",
      "\n",
      "Epoch 00048: loss did not improve from 0.00370\n",
      "Epoch 49/50\n",
      "19910/19910 [==============================] - ETA: 7s - loss: 0.001 - ETA: 7s - loss: 0.001 - ETA: 6s - loss: 0.001 - ETA: 7s - loss: 0.002 - ETA: 6s - loss: 0.002 - ETA: 6s - loss: 0.002 - ETA: 6s - loss: 0.002 - ETA: 6s - loss: 0.002 - ETA: 5s - loss: 0.002 - ETA: 5s - loss: 0.002 - ETA: 5s - loss: 0.002 - ETA: 5s - loss: 0.002 - ETA: 5s - loss: 0.002 - ETA: 4s - loss: 0.002 - ETA: 4s - loss: 0.002 - ETA: 4s - loss: 0.002 - ETA: 4s - loss: 0.003 - ETA: 4s - loss: 0.003 - ETA: 3s - loss: 0.002 - ETA: 3s - loss: 0.003 - ETA: 3s - loss: 0.003 - ETA: 3s - loss: 0.003 - ETA: 3s - loss: 0.004 - ETA: 2s - loss: 0.004 - ETA: 2s - loss: 0.004 - ETA: 2s - loss: 0.004 - ETA: 2s - loss: 0.004 - ETA: 2s - loss: 0.004 - ETA: 1s - loss: 0.004 - ETA: 1s - loss: 0.004 - ETA: 1s - loss: 0.003 - ETA: 1s - loss: 0.003 - ETA: 1s - loss: 0.004 - ETA: 0s - loss: 0.004 - ETA: 0s - loss: 0.004 - ETA: 0s - loss: 0.004 - ETA: 0s - loss: 0.004 - ETA: 0s - loss: 0.004 - 8s 388us/step - loss: 0.0045\n",
      "\n",
      "Epoch 00049: loss did not improve from 0.00370\n",
      "Epoch 50/50\n",
      "19910/19910 [==============================] - ETA: 7s - loss: 0.004 - ETA: 7s - loss: 0.004 - ETA: 6s - loss: 0.004 - ETA: 6s - loss: 0.004 - ETA: 6s - loss: 0.004 - ETA: 6s - loss: 0.004 - ETA: 6s - loss: 0.003 - ETA: 6s - loss: 0.003 - ETA: 5s - loss: 0.003 - ETA: 5s - loss: 0.003 - ETA: 5s - loss: 0.002 - ETA: 5s - loss: 0.002 - ETA: 5s - loss: 0.002 - ETA: 4s - loss: 0.002 - ETA: 4s - loss: 0.002 - ETA: 4s - loss: 0.002 - ETA: 4s - loss: 0.002 - ETA: 4s - loss: 0.002 - ETA: 3s - loss: 0.002 - ETA: 3s - loss: 0.002 - ETA: 3s - loss: 0.002 - ETA: 3s - loss: 0.002 - ETA: 3s - loss: 0.002 - ETA: 2s - loss: 0.002 - ETA: 2s - loss: 0.002 - ETA: 2s - loss: 0.002 - ETA: 2s - loss: 0.002 - ETA: 2s - loss: 0.002 - ETA: 2s - loss: 0.002 - ETA: 1s - loss: 0.002 - ETA: 1s - loss: 0.002 - ETA: 1s - loss: 0.002 - ETA: 1s - loss: 0.002 - ETA: 0s - loss: 0.002 - ETA: 0s - loss: 0.002 - ETA: 0s - loss: 0.002 - ETA: 0s - loss: 0.002 - ETA: 0s - loss: 0.002 - 8s 398us/step - loss: 0.0026\n",
      "\n",
      "Epoch 00050: loss improved from 0.00370 to 0.00256, saving model to models\\weights-improvement-50-bigger.hdf5\n"
     ]
    },
    {
     "data": {
      "text/plain": [
       "<keras.callbacks.History at 0x29480002400>"
      ]
     },
     "execution_count": 32,
     "metadata": {},
     "output_type": "execute_result"
    }
   ],
   "source": [
    "np.random.seed(1337)\n",
    "test_patients = []\n",
    "train_patients = []\n",
    "test_size = 0.2\n",
    "channels\n",
    "for label in selected_labels:\n",
    "    df_selected = df_records.loc[df_records['label'] == label]\n",
    "    patients = df_selected['patient'].unique()\n",
    "    n_test = math.ceil(len(patients)*test_size)\n",
    "    test_patients+=list(np.random.choice(patients, n_test, replace=False))\n",
    "    train_patients+=list(patients[np.isin(patients, test_patients, invert=True)])\n",
    "    \n",
    "df_patient_records = df_records.set_index('patient')\n",
    "df_train_patients = df_patient_records.loc[train_patients]\n",
    "df_test_patients = df_patient_records.loc[test_patients]\n",
    "window_size = 2048#df_records['signal_length'].min()\n",
    "trainX, trainY, _ = make_set(df_train_patients, channels, label_map, False, window_size)\n",
    "testX, testY, record_list = make_set(df_test_patients, channels, label_map, True, window_size)\n",
    "\n",
    "#Shuffle order of train set\n",
    "trainX, trainY = shuffle(trainX, trainY)\n",
    "\n",
    "#Since we have a large class inbalance we need to udjust the weights for it.\n",
    "fractions = 1-trainY.sum(axis=0)/len(trainY)\n",
    "weights = fractions[trainY.argmax(axis=1)]\n",
    "\n",
    "#df_selected['patient'].sample(len())\n",
    "\n",
    "filepath = os.path.join('models', \"weights-improvement-{epoch:02d}-bigger.hdf5\")\n",
    "checkpoint = ModelCheckpoint(filepath, monitor='loss', verbose=1, save_best_only=True, mode='min')\n",
    "\n",
    "model_name = 'two_classes'\n",
    "model_folder = os.path.join('tensorlogs', model_name + \"-logs/\")\n",
    "\n",
    "if not os.path.isdir(model_folder):\n",
    "    n_logs = 0\n",
    "else:\n",
    "    n_logs = len(os.listdir(model_folder))\n",
    "    \n",
    "tensorboard_logs = os.path.join(model_folder, \"%inth_run\"%n_logs)\n",
    "tensorboard_callback = keras.callbacks.TensorBoard(log_dir=tensorboard_logs, write_graph=False)\n",
    "time_callback = TimeHistory()\n",
    "callbacks = [checkpoint, tensorboard_callback, time_callback]\n",
    "\n",
    "model = make_model((trainX.shape[1], trainX.shape[2]), trainY.shape[-1], CuDNNLSTM)\n",
    "\n",
    "model.fit(trainX, trainY, epochs=50, batch_size=512, sample_weight=weights, callbacks=callbacks)\n"
   ]
  },
  {
   "cell_type": "code",
   "execution_count": 33,
   "metadata": {},
   "outputs": [],
   "source": [
    "output = model.predict_classes(testX)"
   ]
  },
  {
   "cell_type": "code",
   "execution_count": 34,
   "metadata": {},
   "outputs": [
    {
     "data": {
      "text/plain": [
       "array([[ 619,  278],\n",
       "       [ 404, 3348]], dtype=int64)"
      ]
     },
     "execution_count": 34,
     "metadata": {},
     "output_type": "execute_result"
    }
   ],
   "source": [
    "confusion_matrix(testY.argmax(axis=1), output)"
   ]
  },
  {
   "cell_type": "code",
   "execution_count": 81,
   "metadata": {},
   "outputs": [
    {
     "data": {
      "text/plain": [
       "0.8466336846633684"
      ]
     },
     "execution_count": 81,
     "metadata": {},
     "output_type": "execute_result"
    }
   ],
   "source": [
    "(output == testY.argmax(axis=1)).sum()/len(output)"
   ]
  },
  {
   "cell_type": "code",
   "execution_count": 62,
   "metadata": {},
   "outputs": [
    {
     "name": "stdout",
     "output_type": "stream",
     "text": [
      "Control accuracy: 0.75\n",
      "Infarct accuracy: 0.9701492537313433\n"
     ]
    }
   ],
   "source": [
    "summed = pd.DataFrame({'record':record_list, 'predictions':output, 'label':testY.argmax(axis=1)}).groupby('record').mean()\n",
    "control = summed.loc[summed['label'] == 0]\n",
    "print(\"Control accuracy: \"+  str((control['predictions'] <= 0.5).sum()/control.shape[0]))\n",
    "\n",
    "infarct = summed.loc[summed['label'] == 1]\n",
    "print(\"Infarct accuracy: \"+  str((infarct['predictions'] > 0.5).sum()/infarct.shape[0]))"
   ]
  },
  {
   "cell_type": "code",
   "execution_count": 65,
   "metadata": {},
   "outputs": [
    {
     "data": {
      "text/plain": [
       "array([[<matplotlib.axes._subplots.AxesSubplot object at 0x00000294A55AA978>,\n",
       "        <matplotlib.axes._subplots.AxesSubplot object at 0x00000294BBABA0B8>]],\n",
       "      dtype=object)"
      ]
     },
     "execution_count": 65,
     "metadata": {},
     "output_type": "execute_result"
    },
    {
     "data": {
      "image/png": "[encoded data removed]",
      "text/plain": [
       "<Figure size 432x288 with 2 Axes>"
      ]
     },
     "metadata": {},
     "output_type": "display_data"
    }
   ],
   "source": [
    "control.hist()"
   ]
  },
  {
   "cell_type": "code",
   "execution_count": 19,
   "metadata": {},
   "outputs": [
    {
     "data": {
      "image/png": "[encoded data removed]",
      "text/plain": [
       "<Figure size 432x288 with 1 Axes>"
      ]
     },
     "metadata": {},
     "output_type": "display_data"
    }
   ],
   "source": [
    "channel = channels[1]\n",
    "plt.plot(df_healthy.iloc[3][channel][0:window_size])\n",
    "plt.plot(df_myo.iloc[4][channel][0:window_size])\n",
    "plt.plot(df_dys.iloc[2][channel][0:window_size])\n",
    "plt.show()"
   ]
  },
  {
   "cell_type": "code",
   "execution_count": 68,
   "metadata": {},
   "outputs": [],
   "source": [
    "record.label = comments_to_dict(record.comments)['Reason for admission']"
   ]
  },
  {
   "cell_type": "code",
   "execution_count": 69,
   "metadata": {},
   "outputs": [
    {
     "data": {
      "text/plain": [
       "' Myocardial infarction'"
      ]
     },
     "execution_count": 69,
     "metadata": {},
     "output_type": "execute_result"
    }
   ],
   "source": [
    "record.label"
   ]
  },
  {
   "cell_type": "code",
   "execution_count": 66,
   "metadata": {},
   "outputs": [
    {
     "data": {
      "text/plain": [
       "{'Acute infarction (localization)': ' infero-latera',\n",
       " 'Additional diagnoses': ' Diabetes mellitus',\n",
       " 'Additional medication': ' Heparin Isosorbit-Mononitrate ASA Diazepam',\n",
       " 'Admission date': ' 29-Sep-90',\n",
       " 'Aorta (at rest) (syst/diast)': ' 160/64 cmH2O',\n",
       " 'Aorta (at rest) mean': ' 106 cmH2O',\n",
       " 'Cardiac index (at rest)': ' n/a',\n",
       " 'Cardiac index (load)': ' n/a',\n",
       " 'Cardiac output (at rest)': ' n/a',\n",
       " 'Cardiac output (load)': ' n/a',\n",
       " 'Catheterization date': ' 16-Oct-90',\n",
       " 'Chest X-ray': ' Heart size upper limit of norm',\n",
       " 'Diagnose': '',\n",
       " 'Dosage (lytic agent)': ' 30 mg',\n",
       " 'ECG date': ' 18/10/1990',\n",
       " 'Echocardiography': ' n/a',\n",
       " 'Former infarction (localization)': ' no',\n",
       " 'Hemodynamics': '',\n",
       " 'In hospital medication': ' ASA Isosorbit-Mononitrate Ca-antagonist Amiloride+Chlorothiazide Glibenclamide Insulin',\n",
       " 'Infarction date': ' 29-Sep-90',\n",
       " 'Infarction date (acute)': ' 29-Sep-90',\n",
       " 'Left coronary artery stenoses (RCX)': ' No stenoses',\n",
       " 'Left coronary artery stenoses (RIVA)': ' RIVA 70% proximal to ramus diagonalis_2',\n",
       " 'Left ventricular enddiastolic pressure': ' 11 cmH2O',\n",
       " 'Lytic agent': ' Gamma-TPA',\n",
       " 'Medication after discharge': ' ASA Isosorbit-Mononitrate Amiloride+Chlorothiazide Glibenclamide',\n",
       " 'Medication pre admission': ' Isosorbit-Dinitrate Digoxin Glibenclamide',\n",
       " 'Number of coronary vessels involved': ' 1',\n",
       " 'Peripheral blood Pressure (syst/diast)': '  140/80 mmHg',\n",
       " 'Previous infarction (1) date': ' n/a',\n",
       " 'Previous infarction (2) date': ' n/a',\n",
       " 'Pulmonary artery pressure (at rest) (mean)': ' n/a',\n",
       " 'Pulmonary artery pressure (at rest) (syst/diast)': ' n/a',\n",
       " 'Pulmonary artery pressure (laod) (mean)': ' n/a',\n",
       " 'Pulmonary artery pressure (laod) (syst/diast)': ' n/a',\n",
       " 'Pulmonary capillary wedge pressure (at rest)': ' n/a',\n",
       " 'Pulmonary capillary wedge pressure (load)': ' n/a',\n",
       " 'Reason for admission': ' Myocardial infarction',\n",
       " 'Right coronary artery stenoses (RCA)': ' No stenoses',\n",
       " 'Smoker': ' no',\n",
       " 'Start lysis therapy (hh.mm)': ' 19',\n",
       " 'Stroke volume index (at rest)': ' n/a',\n",
       " 'Stroke volume index (load)': ' n/a',\n",
       " 'Therapy': '',\n",
       " 'Ventriculography': ' Akinesia inferior wall',\n",
       " 'age': ' 81',\n",
       " 'sex': ' female'}"
      ]
     },
     "execution_count": 66,
     "metadata": {},
     "output_type": "execute_result"
    }
   ],
   "source": [
    "comments_to_dict(record.comments)"
   ]
  },
  {
   "cell_type": "code",
   "execution_count": 4,
   "metadata": {},
   "outputs": [
    {
     "name": "stdout",
     "output_type": "stream",
     "text": [
      "Downloading files...\n",
      "Finished downloading files\n"
     ]
    }
   ],
   "source": [
    "io.dl_database(db, 'data', records)"
   ]
  }
 ],
 "metadata": {
  "kernelspec": {
   "display_name": "Python [conda env:tensorflow]",
   "language": "python",
   "name": "conda-env-tensorflow-py"
  },
  "language_info": {
   "codemirror_mode": {
    "name": "ipython",
    "version": 3
   },
   "file_extension": ".py",
   "mimetype": "text/x-python",
   "name": "python",
   "nbconvert_exporter": "python",
   "pygments_lexer": "ipython3",
   "version": "3.5.4"
  }
 },
 "nbformat": 4,
 "nbformat_minor": 2
}
