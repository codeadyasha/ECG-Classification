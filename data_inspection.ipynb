{
 "cells": [
  {
   "cell_type": "code",
   "execution_count": 5,
   "metadata": {},
   "outputs": [],
   "source": [
    "from wfdb import io, plot\n",
    "import os"
   ]
  },
  {
   "cell_type": "code",
   "execution_count": 3,
   "metadata": {},
   "outputs": [],
   "source": [
    "data_folder = 'data'\n",
    "db = 'ptbdb'\n",
    "record_names = io.get_record_list(db)"
   ]
  },
  {
   "cell_type": "code",
   "execution_count": null,
   "metadata": {},
   "outputs": [],
   "source": [
    "def comments_to_dict(comments):\n",
    "    key_value_pairs = [comment.split(':') for comment in comments]\n",
    "    return {pair[0]: pair[1] for pair in key_value_pairs}    "
   ]
  },
  {
   "cell_type": "code",
   "execution_count": 7,
   "metadata": {},
   "outputs": [],
   "source": [
    "record_name = record_names[0]\n",
    "record = io.rdrecord(record_name=os.path.join('data', record_name))"
   ]
  },
  {
   "cell_type": "code",
   "execution_count": 13,
   "metadata": {},
   "outputs": [
    {
     "ename": "AttributeError",
     "evalue": "'Record' object has no attribute 'name'",
     "output_type": "error",
     "traceback": [
      "\u001b[1;31m---------------------------------------------------------------------------\u001b[0m",
      "\u001b[1;31mAttributeError\u001b[0m                            Traceback (most recent call last)",
      "\u001b[1;32m<ipython-input-13-3db0e51d30e7>\u001b[0m in \u001b[0;36m<module>\u001b[1;34m()\u001b[0m\n\u001b[1;32m----> 1\u001b[1;33m \u001b[0mrecord\u001b[0m\u001b[1;33m.\u001b[0m\u001b[0mname\u001b[0m\u001b[1;33m\u001b[0m\u001b[0m\n\u001b[0m\u001b[0;32m      2\u001b[0m \u001b[1;31m#record.sig_name\u001b[0m\u001b[1;33m\u001b[0m\u001b[1;33m\u001b[0m\u001b[0m\n\u001b[0;32m      3\u001b[0m \u001b[1;31m#record.\u001b[0m\u001b[1;33m\u001b[0m\u001b[1;33m\u001b[0m\u001b[0m\n",
      "\u001b[1;31mAttributeError\u001b[0m: 'Record' object has no attribute 'name'"
     ]
    }
   ],
   "source": [
    "record.comments\n",
    "#record.sig_name\n",
    "#record."
   ]
  },
  {
   "cell_type": "code",
   "execution_count": null,
   "metadata": {},
   "outputs": [],
   "source": [
    "records = []\n",
    "for record_name in tqdm(record_names):\n",
    "    record = io.rdrecord(record_name=os.path.join('data', record_name))\n",
    "    label = comments_to_dict(record.comments)['Reason for admission'][1:]\n",
    "    patient = record_name.split('/')[0]\n",
    "    signal_length = record.sig_len\n",
    "    records.append({'name':record_name, 'label':label, 'patient':patient, 'signal_length':signal_length})\n",
    "    \n",
    "channels = record.sig_name\n",
    "df_records = pd.DataFrame(records)    "
   ]
  },
  {
   "cell_type": "code",
   "execution_count": null,
   "metadata": {},
   "outputs": [],
   "source": [
    "channel = channels[1]\n",
    "plt.plot(df_healthy.iloc[3][channel][0:window_size])\n",
    "plt.plot(df_myo.iloc[4][channel][0:window_size])\n",
    "plt.plot(df_dys.iloc[2][channel][0:window_size])\n",
    "plt.show()"
   ]
  }
 ],
 "metadata": {
  "kernelspec": {
   "display_name": "Python [conda env:tensorflow]",
   "language": "python",
   "name": "conda-env-tensorflow-py"
  },
  "language_info": {
   "codemirror_mode": {
    "name": "ipython",
    "version": 3
   },
   "file_extension": ".py",
   "mimetype": "text/x-python",
   "name": "python",
   "nbconvert_exporter": "python",
   "pygments_lexer": "ipython3",
   "version": "3.5.4"
  }
 },
 "nbformat": 4,
 "nbformat_minor": 2
}
